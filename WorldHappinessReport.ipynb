{
 "cells": [
  {
   "cell_type": "code",
   "execution_count": 14,
   "metadata": {},
   "outputs": [],
   "source": [
    "import pandas as pd\n",
    "import numpy as np"
   ]
  },
  {
   "cell_type": "code",
   "execution_count": 15,
   "metadata": {},
   "outputs": [],
   "source": [
    "data=pd.read_csv(\"world_happiness_report.csv\")"
   ]
  },
  {
   "cell_type": "code",
   "execution_count": 16,
   "metadata": {},
   "outputs": [
    {
     "data": {
      "text/html": [
       "<div>\n",
       "<style scoped>\n",
       "    .dataframe tbody tr th:only-of-type {\n",
       "        vertical-align: middle;\n",
       "    }\n",
       "\n",
       "    .dataframe tbody tr th {\n",
       "        vertical-align: top;\n",
       "    }\n",
       "\n",
       "    .dataframe thead th {\n",
       "        text-align: right;\n",
       "    }\n",
       "</style>\n",
       "<table border=\"1\" class=\"dataframe\">\n",
       "  <thead>\n",
       "    <tr style=\"text-align: right;\">\n",
       "      <th></th>\n",
       "      <th>Country</th>\n",
       "      <th>Region</th>\n",
       "      <th>Happiness Rank</th>\n",
       "      <th>Happiness Score</th>\n",
       "      <th>Standard Error</th>\n",
       "      <th>Economy (GDP per Capita)</th>\n",
       "      <th>Family</th>\n",
       "      <th>Health (Life Expectancy)</th>\n",
       "      <th>Freedom</th>\n",
       "      <th>Trust (Government Corruption)</th>\n",
       "      <th>Generosity</th>\n",
       "      <th>Dystopia Residual</th>\n",
       "    </tr>\n",
       "  </thead>\n",
       "  <tbody>\n",
       "    <tr>\n",
       "      <th>0</th>\n",
       "      <td>Switzerland</td>\n",
       "      <td>Western Europe</td>\n",
       "      <td>1</td>\n",
       "      <td>7.587</td>\n",
       "      <td>0.03411</td>\n",
       "      <td>1.39651</td>\n",
       "      <td>1.34951</td>\n",
       "      <td>0.94143</td>\n",
       "      <td>0.66557</td>\n",
       "      <td>0.41978</td>\n",
       "      <td>0.29678</td>\n",
       "      <td>2.51738</td>\n",
       "    </tr>\n",
       "    <tr>\n",
       "      <th>1</th>\n",
       "      <td>Iceland</td>\n",
       "      <td>Western Europe</td>\n",
       "      <td>2</td>\n",
       "      <td>7.561</td>\n",
       "      <td>0.04884</td>\n",
       "      <td>1.30232</td>\n",
       "      <td>1.40223</td>\n",
       "      <td>0.94784</td>\n",
       "      <td>0.62877</td>\n",
       "      <td>0.14145</td>\n",
       "      <td>0.43630</td>\n",
       "      <td>2.70201</td>\n",
       "    </tr>\n",
       "    <tr>\n",
       "      <th>2</th>\n",
       "      <td>Denmark</td>\n",
       "      <td>Western Europe</td>\n",
       "      <td>3</td>\n",
       "      <td>7.527</td>\n",
       "      <td>0.03328</td>\n",
       "      <td>1.32548</td>\n",
       "      <td>1.36058</td>\n",
       "      <td>0.87464</td>\n",
       "      <td>0.64938</td>\n",
       "      <td>0.48357</td>\n",
       "      <td>0.34139</td>\n",
       "      <td>2.49204</td>\n",
       "    </tr>\n",
       "    <tr>\n",
       "      <th>3</th>\n",
       "      <td>Norway</td>\n",
       "      <td>Western Europe</td>\n",
       "      <td>4</td>\n",
       "      <td>7.522</td>\n",
       "      <td>0.03880</td>\n",
       "      <td>1.45900</td>\n",
       "      <td>1.33095</td>\n",
       "      <td>0.88521</td>\n",
       "      <td>0.66973</td>\n",
       "      <td>0.36503</td>\n",
       "      <td>0.34699</td>\n",
       "      <td>2.46531</td>\n",
       "    </tr>\n",
       "    <tr>\n",
       "      <th>4</th>\n",
       "      <td>Canada</td>\n",
       "      <td>North America</td>\n",
       "      <td>5</td>\n",
       "      <td>7.427</td>\n",
       "      <td>0.03553</td>\n",
       "      <td>1.32629</td>\n",
       "      <td>1.32261</td>\n",
       "      <td>0.90563</td>\n",
       "      <td>0.63297</td>\n",
       "      <td>0.32957</td>\n",
       "      <td>0.45811</td>\n",
       "      <td>2.45176</td>\n",
       "    </tr>\n",
       "  </tbody>\n",
       "</table>\n",
       "</div>"
      ],
      "text/plain": [
       "       Country          Region  Happiness Rank  Happiness Score  \\\n",
       "0  Switzerland  Western Europe               1            7.587   \n",
       "1      Iceland  Western Europe               2            7.561   \n",
       "2      Denmark  Western Europe               3            7.527   \n",
       "3       Norway  Western Europe               4            7.522   \n",
       "4       Canada   North America               5            7.427   \n",
       "\n",
       "   Standard Error  Economy (GDP per Capita)   Family  \\\n",
       "0         0.03411                   1.39651  1.34951   \n",
       "1         0.04884                   1.30232  1.40223   \n",
       "2         0.03328                   1.32548  1.36058   \n",
       "3         0.03880                   1.45900  1.33095   \n",
       "4         0.03553                   1.32629  1.32261   \n",
       "\n",
       "   Health (Life Expectancy)  Freedom  Trust (Government Corruption)  \\\n",
       "0                   0.94143  0.66557                        0.41978   \n",
       "1                   0.94784  0.62877                        0.14145   \n",
       "2                   0.87464  0.64938                        0.48357   \n",
       "3                   0.88521  0.66973                        0.36503   \n",
       "4                   0.90563  0.63297                        0.32957   \n",
       "\n",
       "   Generosity  Dystopia Residual  \n",
       "0     0.29678            2.51738  \n",
       "1     0.43630            2.70201  \n",
       "2     0.34139            2.49204  \n",
       "3     0.34699            2.46531  \n",
       "4     0.45811            2.45176  "
      ]
     },
     "execution_count": 16,
     "metadata": {},
     "output_type": "execute_result"
    }
   ],
   "source": [
    "data.head()"
   ]
  },
  {
   "cell_type": "code",
   "execution_count": 102,
   "metadata": {},
   "outputs": [
    {
     "data": {
      "text/html": [
       "<div>\n",
       "<style scoped>\n",
       "    .dataframe tbody tr th:only-of-type {\n",
       "        vertical-align: middle;\n",
       "    }\n",
       "\n",
       "    .dataframe tbody tr th {\n",
       "        vertical-align: top;\n",
       "    }\n",
       "\n",
       "    .dataframe thead th {\n",
       "        text-align: right;\n",
       "    }\n",
       "</style>\n",
       "<table border=\"1\" class=\"dataframe\">\n",
       "  <thead>\n",
       "    <tr style=\"text-align: right;\">\n",
       "      <th></th>\n",
       "      <th>Country</th>\n",
       "      <th>Region</th>\n",
       "      <th>Happiness Rank</th>\n",
       "      <th>Happiness Score</th>\n",
       "      <th>Standard Error</th>\n",
       "      <th>Economy (GDP per Capita)</th>\n",
       "      <th>Family</th>\n",
       "      <th>Health (Life Expectancy)</th>\n",
       "      <th>Freedom</th>\n",
       "      <th>Trust (Government Corruption)</th>\n",
       "      <th>Generosity</th>\n",
       "      <th>Dystopia Residual</th>\n",
       "    </tr>\n",
       "  </thead>\n",
       "  <tbody>\n",
       "    <tr>\n",
       "      <th>0</th>\n",
       "      <td>Switzerland</td>\n",
       "      <td>Western Europe</td>\n",
       "      <td>1</td>\n",
       "      <td>7.587</td>\n",
       "      <td>0.03411</td>\n",
       "      <td>1.39651</td>\n",
       "      <td>1.34951</td>\n",
       "      <td>0.94143</td>\n",
       "      <td>0.66557</td>\n",
       "      <td>0.41978</td>\n",
       "      <td>0.29678</td>\n",
       "      <td>2.51738</td>\n",
       "    </tr>\n",
       "    <tr>\n",
       "      <th>1</th>\n",
       "      <td>Iceland</td>\n",
       "      <td>Western Europe</td>\n",
       "      <td>2</td>\n",
       "      <td>7.561</td>\n",
       "      <td>0.04884</td>\n",
       "      <td>1.30232</td>\n",
       "      <td>1.40223</td>\n",
       "      <td>0.94784</td>\n",
       "      <td>0.62877</td>\n",
       "      <td>0.14145</td>\n",
       "      <td>0.43630</td>\n",
       "      <td>2.70201</td>\n",
       "    </tr>\n",
       "    <tr>\n",
       "      <th>2</th>\n",
       "      <td>Denmark</td>\n",
       "      <td>Western Europe</td>\n",
       "      <td>3</td>\n",
       "      <td>7.527</td>\n",
       "      <td>0.03328</td>\n",
       "      <td>1.32548</td>\n",
       "      <td>1.36058</td>\n",
       "      <td>0.87464</td>\n",
       "      <td>0.64938</td>\n",
       "      <td>0.48357</td>\n",
       "      <td>0.34139</td>\n",
       "      <td>2.49204</td>\n",
       "    </tr>\n",
       "    <tr>\n",
       "      <th>3</th>\n",
       "      <td>Norway</td>\n",
       "      <td>Western Europe</td>\n",
       "      <td>4</td>\n",
       "      <td>7.522</td>\n",
       "      <td>0.03880</td>\n",
       "      <td>1.45900</td>\n",
       "      <td>1.33095</td>\n",
       "      <td>0.88521</td>\n",
       "      <td>0.66973</td>\n",
       "      <td>0.36503</td>\n",
       "      <td>0.34699</td>\n",
       "      <td>2.46531</td>\n",
       "    </tr>\n",
       "    <tr>\n",
       "      <th>4</th>\n",
       "      <td>Canada</td>\n",
       "      <td>North America</td>\n",
       "      <td>5</td>\n",
       "      <td>7.427</td>\n",
       "      <td>0.03553</td>\n",
       "      <td>1.32629</td>\n",
       "      <td>1.32261</td>\n",
       "      <td>0.90563</td>\n",
       "      <td>0.63297</td>\n",
       "      <td>0.32957</td>\n",
       "      <td>0.45811</td>\n",
       "      <td>2.45176</td>\n",
       "    </tr>\n",
       "    <tr>\n",
       "      <th>...</th>\n",
       "      <td>...</td>\n",
       "      <td>...</td>\n",
       "      <td>...</td>\n",
       "      <td>...</td>\n",
       "      <td>...</td>\n",
       "      <td>...</td>\n",
       "      <td>...</td>\n",
       "      <td>...</td>\n",
       "      <td>...</td>\n",
       "      <td>...</td>\n",
       "      <td>...</td>\n",
       "      <td>...</td>\n",
       "    </tr>\n",
       "    <tr>\n",
       "      <th>153</th>\n",
       "      <td>Rwanda</td>\n",
       "      <td>Sub-Saharan Africa</td>\n",
       "      <td>154</td>\n",
       "      <td>3.465</td>\n",
       "      <td>0.03464</td>\n",
       "      <td>0.22208</td>\n",
       "      <td>0.77370</td>\n",
       "      <td>0.42864</td>\n",
       "      <td>0.59201</td>\n",
       "      <td>0.55191</td>\n",
       "      <td>0.22628</td>\n",
       "      <td>0.67042</td>\n",
       "    </tr>\n",
       "    <tr>\n",
       "      <th>154</th>\n",
       "      <td>Benin</td>\n",
       "      <td>Sub-Saharan Africa</td>\n",
       "      <td>155</td>\n",
       "      <td>3.340</td>\n",
       "      <td>0.03656</td>\n",
       "      <td>0.28665</td>\n",
       "      <td>0.35386</td>\n",
       "      <td>0.31910</td>\n",
       "      <td>0.48450</td>\n",
       "      <td>0.08010</td>\n",
       "      <td>0.18260</td>\n",
       "      <td>1.63328</td>\n",
       "    </tr>\n",
       "    <tr>\n",
       "      <th>155</th>\n",
       "      <td>Syria</td>\n",
       "      <td>Middle East and Northern Africa</td>\n",
       "      <td>156</td>\n",
       "      <td>3.006</td>\n",
       "      <td>0.05015</td>\n",
       "      <td>0.66320</td>\n",
       "      <td>0.47489</td>\n",
       "      <td>0.72193</td>\n",
       "      <td>0.15684</td>\n",
       "      <td>0.18906</td>\n",
       "      <td>0.47179</td>\n",
       "      <td>0.32858</td>\n",
       "    </tr>\n",
       "    <tr>\n",
       "      <th>156</th>\n",
       "      <td>Burundi</td>\n",
       "      <td>Sub-Saharan Africa</td>\n",
       "      <td>157</td>\n",
       "      <td>2.905</td>\n",
       "      <td>0.08658</td>\n",
       "      <td>0.01530</td>\n",
       "      <td>0.41587</td>\n",
       "      <td>0.22396</td>\n",
       "      <td>0.11850</td>\n",
       "      <td>0.10062</td>\n",
       "      <td>0.19727</td>\n",
       "      <td>1.83302</td>\n",
       "    </tr>\n",
       "    <tr>\n",
       "      <th>157</th>\n",
       "      <td>Togo</td>\n",
       "      <td>Sub-Saharan Africa</td>\n",
       "      <td>158</td>\n",
       "      <td>2.839</td>\n",
       "      <td>0.06727</td>\n",
       "      <td>0.20868</td>\n",
       "      <td>0.13995</td>\n",
       "      <td>0.28443</td>\n",
       "      <td>0.36453</td>\n",
       "      <td>0.10731</td>\n",
       "      <td>0.16681</td>\n",
       "      <td>1.56726</td>\n",
       "    </tr>\n",
       "  </tbody>\n",
       "</table>\n",
       "<p>158 rows × 12 columns</p>\n",
       "</div>"
      ],
      "text/plain": [
       "         Country                           Region  Happiness Rank  \\\n",
       "0    Switzerland                   Western Europe               1   \n",
       "1        Iceland                   Western Europe               2   \n",
       "2        Denmark                   Western Europe               3   \n",
       "3         Norway                   Western Europe               4   \n",
       "4         Canada                    North America               5   \n",
       "..           ...                              ...             ...   \n",
       "153       Rwanda               Sub-Saharan Africa             154   \n",
       "154        Benin               Sub-Saharan Africa             155   \n",
       "155        Syria  Middle East and Northern Africa             156   \n",
       "156      Burundi               Sub-Saharan Africa             157   \n",
       "157         Togo               Sub-Saharan Africa             158   \n",
       "\n",
       "     Happiness Score  Standard Error  Economy (GDP per Capita)   Family  \\\n",
       "0              7.587         0.03411                   1.39651  1.34951   \n",
       "1              7.561         0.04884                   1.30232  1.40223   \n",
       "2              7.527         0.03328                   1.32548  1.36058   \n",
       "3              7.522         0.03880                   1.45900  1.33095   \n",
       "4              7.427         0.03553                   1.32629  1.32261   \n",
       "..               ...             ...                       ...      ...   \n",
       "153            3.465         0.03464                   0.22208  0.77370   \n",
       "154            3.340         0.03656                   0.28665  0.35386   \n",
       "155            3.006         0.05015                   0.66320  0.47489   \n",
       "156            2.905         0.08658                   0.01530  0.41587   \n",
       "157            2.839         0.06727                   0.20868  0.13995   \n",
       "\n",
       "     Health (Life Expectancy)  Freedom  Trust (Government Corruption)  \\\n",
       "0                     0.94143  0.66557                        0.41978   \n",
       "1                     0.94784  0.62877                        0.14145   \n",
       "2                     0.87464  0.64938                        0.48357   \n",
       "3                     0.88521  0.66973                        0.36503   \n",
       "4                     0.90563  0.63297                        0.32957   \n",
       "..                        ...      ...                            ...   \n",
       "153                   0.42864  0.59201                        0.55191   \n",
       "154                   0.31910  0.48450                        0.08010   \n",
       "155                   0.72193  0.15684                        0.18906   \n",
       "156                   0.22396  0.11850                        0.10062   \n",
       "157                   0.28443  0.36453                        0.10731   \n",
       "\n",
       "     Generosity  Dystopia Residual  \n",
       "0       0.29678            2.51738  \n",
       "1       0.43630            2.70201  \n",
       "2       0.34139            2.49204  \n",
       "3       0.34699            2.46531  \n",
       "4       0.45811            2.45176  \n",
       "..          ...                ...  \n",
       "153     0.22628            0.67042  \n",
       "154     0.18260            1.63328  \n",
       "155     0.47179            0.32858  \n",
       "156     0.19727            1.83302  \n",
       "157     0.16681            1.56726  \n",
       "\n",
       "[158 rows x 12 columns]"
      ]
     },
     "execution_count": 102,
     "metadata": {},
     "output_type": "execute_result"
    }
   ],
   "source": [
    "data"
   ]
  },
  {
   "cell_type": "code",
   "execution_count": 17,
   "metadata": {},
   "outputs": [
    {
     "name": "stdout",
     "output_type": "stream",
     "text": [
      "<class 'pandas.core.frame.DataFrame'>\n",
      "RangeIndex: 158 entries, 0 to 157\n",
      "Data columns (total 12 columns):\n",
      " #   Column                         Non-Null Count  Dtype  \n",
      "---  ------                         --------------  -----  \n",
      " 0   Country                        158 non-null    object \n",
      " 1   Region                         158 non-null    object \n",
      " 2   Happiness Rank                 158 non-null    int64  \n",
      " 3   Happiness Score                158 non-null    float64\n",
      " 4   Standard Error                 158 non-null    float64\n",
      " 5   Economy (GDP per Capita)       158 non-null    float64\n",
      " 6   Family                         158 non-null    float64\n",
      " 7   Health (Life Expectancy)       158 non-null    float64\n",
      " 8   Freedom                        158 non-null    float64\n",
      " 9   Trust (Government Corruption)  158 non-null    float64\n",
      " 10  Generosity                     158 non-null    float64\n",
      " 11  Dystopia Residual              158 non-null    float64\n",
      "dtypes: float64(9), int64(1), object(2)\n",
      "memory usage: 14.9+ KB\n"
     ]
    }
   ],
   "source": [
    "data.info()"
   ]
  },
  {
   "cell_type": "code",
   "execution_count": 18,
   "metadata": {},
   "outputs": [
    {
     "data": {
      "text/plain": [
       "Index(['Country', 'Region', 'Happiness Rank', 'Happiness Score',\n",
       "       'Standard Error', 'Economy (GDP per Capita)', 'Family',\n",
       "       'Health (Life Expectancy)', 'Freedom', 'Trust (Government Corruption)',\n",
       "       'Generosity', 'Dystopia Residual'],\n",
       "      dtype='object')"
      ]
     },
     "execution_count": 18,
     "metadata": {},
     "output_type": "execute_result"
    }
   ],
   "source": [
    "data.columns"
   ]
  },
  {
   "cell_type": "code",
   "execution_count": 19,
   "metadata": {},
   "outputs": [
    {
     "data": {
      "text/plain": [
       "Burkina Faso            1\n",
       "Spain                   1\n",
       "Uzbekistan              1\n",
       "Kenya                   1\n",
       "Montenegro              1\n",
       "                       ..\n",
       "Chad                    1\n",
       "Mozambique              1\n",
       "United Arab Emirates    1\n",
       "Algeria                 1\n",
       "South Africa            1\n",
       "Name: Country, Length: 158, dtype: int64"
      ]
     },
     "execution_count": 19,
     "metadata": {},
     "output_type": "execute_result"
    }
   ],
   "source": [
    "data['Country'].value_counts()"
   ]
  },
  {
   "cell_type": "code",
   "execution_count": 20,
   "metadata": {},
   "outputs": [
    {
     "data": {
      "text/plain": [
       "array(['Switzerland', 'Iceland', 'Denmark', 'Norway', 'Canada', 'Finland',\n",
       "       'Netherlands', 'Sweden', 'New Zealand', 'Australia', 'Israel',\n",
       "       'Costa Rica', 'Austria', 'Mexico', 'United States', 'Brazil',\n",
       "       'Luxembourg', 'Ireland', 'Belgium', 'United Arab Emirates',\n",
       "       'United Kingdom', 'Oman', 'Venezuela', 'Singapore', 'Panama',\n",
       "       'Germany', 'Chile', 'Qatar', 'France', 'Argentina',\n",
       "       'Czech Republic', 'Uruguay', 'Colombia', 'Thailand',\n",
       "       'Saudi Arabia', 'Spain', 'Malta', 'Taiwan', 'Kuwait', 'Suriname',\n",
       "       'Trinidad and Tobago', 'El Salvador', 'Guatemala', 'Uzbekistan',\n",
       "       'Slovakia', 'Japan', 'South Korea', 'Ecuador', 'Bahrain', 'Italy',\n",
       "       'Bolivia', 'Moldova', 'Paraguay', 'Kazakhstan', 'Slovenia',\n",
       "       'Lithuania', 'Nicaragua', 'Peru', 'Belarus', 'Poland', 'Malaysia',\n",
       "       'Croatia', 'Libya', 'Russia', 'Jamaica', 'North Cyprus', 'Cyprus',\n",
       "       'Algeria', 'Kosovo', 'Turkmenistan', 'Mauritius', 'Hong Kong',\n",
       "       'Estonia', 'Indonesia', 'Vietnam', 'Turkey', 'Kyrgyzstan',\n",
       "       'Nigeria', 'Bhutan', 'Azerbaijan', 'Pakistan', 'Jordan',\n",
       "       'Montenegro', 'China', 'Zambia', 'Romania', 'Serbia', 'Portugal',\n",
       "       'Latvia', 'Philippines', 'Somaliland region', 'Morocco',\n",
       "       'Macedonia', 'Mozambique', 'Albania', 'Bosnia and Herzegovina',\n",
       "       'Lesotho', 'Dominican Republic', 'Laos', 'Mongolia', 'Swaziland',\n",
       "       'Greece', 'Lebanon', 'Hungary', 'Honduras', 'Tajikistan',\n",
       "       'Tunisia', 'Palestinian Territories', 'Bangladesh', 'Iran',\n",
       "       'Ukraine', 'Iraq', 'South Africa', 'Ghana', 'Zimbabwe', 'Liberia',\n",
       "       'India', 'Sudan', 'Haiti', 'Congo (Kinshasa)', 'Nepal', 'Ethiopia',\n",
       "       'Sierra Leone', 'Mauritania', 'Kenya', 'Djibouti', 'Armenia',\n",
       "       'Botswana', 'Myanmar', 'Georgia', 'Malawi', 'Sri Lanka',\n",
       "       'Cameroon', 'Bulgaria', 'Egypt', 'Yemen', 'Angola', 'Mali',\n",
       "       'Congo (Brazzaville)', 'Comoros', 'Uganda', 'Senegal', 'Gabon',\n",
       "       'Niger', 'Cambodia', 'Tanzania', 'Madagascar',\n",
       "       'Central African Republic', 'Chad', 'Guinea', 'Ivory Coast',\n",
       "       'Burkina Faso', 'Afghanistan', 'Rwanda', 'Benin', 'Syria',\n",
       "       'Burundi', 'Togo'], dtype=object)"
      ]
     },
     "execution_count": 20,
     "metadata": {},
     "output_type": "execute_result"
    }
   ],
   "source": [
    "data['Country'].unique()"
   ]
  },
  {
   "cell_type": "code",
   "execution_count": 21,
   "metadata": {},
   "outputs": [
    {
     "data": {
      "text/plain": [
       "Sub-Saharan Africa                 40\n",
       "Central and Eastern Europe         29\n",
       "Latin America and Caribbean        22\n",
       "Western Europe                     21\n",
       "Middle East and Northern Africa    20\n",
       "Southeastern Asia                   9\n",
       "Southern Asia                       7\n",
       "Eastern Asia                        6\n",
       "North America                       2\n",
       "Australia and New Zealand           2\n",
       "Name: Region, dtype: int64"
      ]
     },
     "execution_count": 21,
     "metadata": {},
     "output_type": "execute_result"
    }
   ],
   "source": [
    "data['Region'].value_counts()"
   ]
  },
  {
   "cell_type": "code",
   "execution_count": 22,
   "metadata": {},
   "outputs": [
    {
     "data": {
      "text/plain": [
       "Country                          0\n",
       "Region                           0\n",
       "Happiness Rank                   0\n",
       "Happiness Score                  0\n",
       "Standard Error                   0\n",
       "Economy (GDP per Capita)         0\n",
       "Family                           0\n",
       "Health (Life Expectancy)         0\n",
       "Freedom                          0\n",
       "Trust (Government Corruption)    0\n",
       "Generosity                       0\n",
       "Dystopia Residual                0\n",
       "dtype: int64"
      ]
     },
     "execution_count": 22,
     "metadata": {},
     "output_type": "execute_result"
    }
   ],
   "source": [
    "data.isnull().sum()"
   ]
  },
  {
   "cell_type": "markdown",
   "metadata": {},
   "source": [
    "There are no null values present in the dataset"
   ]
  },
  {
   "cell_type": "code",
   "execution_count": 23,
   "metadata": {},
   "outputs": [],
   "source": [
    "df=data.drop(['Country','Region'],axis=1) #data.drop(['Country','Region'],axis=1,inplace=True)"
   ]
  },
  {
   "cell_type": "code",
   "execution_count": 24,
   "metadata": {},
   "outputs": [],
   "source": [
    "df=pd.DataFrame(data=df)"
   ]
  },
  {
   "cell_type": "code",
   "execution_count": 25,
   "metadata": {},
   "outputs": [
    {
     "data": {
      "text/plain": [
       "(158, 10)"
      ]
     },
     "execution_count": 25,
     "metadata": {},
     "output_type": "execute_result"
    }
   ],
   "source": [
    "df.shape"
   ]
  },
  {
   "cell_type": "code",
   "execution_count": 26,
   "metadata": {},
   "outputs": [
    {
     "data": {
      "text/html": [
       "<div>\n",
       "<style scoped>\n",
       "    .dataframe tbody tr th:only-of-type {\n",
       "        vertical-align: middle;\n",
       "    }\n",
       "\n",
       "    .dataframe tbody tr th {\n",
       "        vertical-align: top;\n",
       "    }\n",
       "\n",
       "    .dataframe thead th {\n",
       "        text-align: right;\n",
       "    }\n",
       "</style>\n",
       "<table border=\"1\" class=\"dataframe\">\n",
       "  <thead>\n",
       "    <tr style=\"text-align: right;\">\n",
       "      <th></th>\n",
       "      <th>Happiness Rank</th>\n",
       "      <th>Happiness Score</th>\n",
       "      <th>Standard Error</th>\n",
       "      <th>Economy (GDP per Capita)</th>\n",
       "      <th>Family</th>\n",
       "      <th>Health (Life Expectancy)</th>\n",
       "      <th>Freedom</th>\n",
       "      <th>Trust (Government Corruption)</th>\n",
       "      <th>Generosity</th>\n",
       "      <th>Dystopia Residual</th>\n",
       "    </tr>\n",
       "  </thead>\n",
       "  <tbody>\n",
       "    <tr>\n",
       "      <th>0</th>\n",
       "      <td>1</td>\n",
       "      <td>7.587</td>\n",
       "      <td>0.03411</td>\n",
       "      <td>1.39651</td>\n",
       "      <td>1.34951</td>\n",
       "      <td>0.94143</td>\n",
       "      <td>0.66557</td>\n",
       "      <td>0.41978</td>\n",
       "      <td>0.29678</td>\n",
       "      <td>2.51738</td>\n",
       "    </tr>\n",
       "    <tr>\n",
       "      <th>1</th>\n",
       "      <td>2</td>\n",
       "      <td>7.561</td>\n",
       "      <td>0.04884</td>\n",
       "      <td>1.30232</td>\n",
       "      <td>1.40223</td>\n",
       "      <td>0.94784</td>\n",
       "      <td>0.62877</td>\n",
       "      <td>0.14145</td>\n",
       "      <td>0.43630</td>\n",
       "      <td>2.70201</td>\n",
       "    </tr>\n",
       "    <tr>\n",
       "      <th>2</th>\n",
       "      <td>3</td>\n",
       "      <td>7.527</td>\n",
       "      <td>0.03328</td>\n",
       "      <td>1.32548</td>\n",
       "      <td>1.36058</td>\n",
       "      <td>0.87464</td>\n",
       "      <td>0.64938</td>\n",
       "      <td>0.48357</td>\n",
       "      <td>0.34139</td>\n",
       "      <td>2.49204</td>\n",
       "    </tr>\n",
       "    <tr>\n",
       "      <th>3</th>\n",
       "      <td>4</td>\n",
       "      <td>7.522</td>\n",
       "      <td>0.03880</td>\n",
       "      <td>1.45900</td>\n",
       "      <td>1.33095</td>\n",
       "      <td>0.88521</td>\n",
       "      <td>0.66973</td>\n",
       "      <td>0.36503</td>\n",
       "      <td>0.34699</td>\n",
       "      <td>2.46531</td>\n",
       "    </tr>\n",
       "    <tr>\n",
       "      <th>4</th>\n",
       "      <td>5</td>\n",
       "      <td>7.427</td>\n",
       "      <td>0.03553</td>\n",
       "      <td>1.32629</td>\n",
       "      <td>1.32261</td>\n",
       "      <td>0.90563</td>\n",
       "      <td>0.63297</td>\n",
       "      <td>0.32957</td>\n",
       "      <td>0.45811</td>\n",
       "      <td>2.45176</td>\n",
       "    </tr>\n",
       "  </tbody>\n",
       "</table>\n",
       "</div>"
      ],
      "text/plain": [
       "   Happiness Rank  Happiness Score  Standard Error  Economy (GDP per Capita)  \\\n",
       "0               1            7.587         0.03411                   1.39651   \n",
       "1               2            7.561         0.04884                   1.30232   \n",
       "2               3            7.527         0.03328                   1.32548   \n",
       "3               4            7.522         0.03880                   1.45900   \n",
       "4               5            7.427         0.03553                   1.32629   \n",
       "\n",
       "    Family  Health (Life Expectancy)  Freedom  Trust (Government Corruption)  \\\n",
       "0  1.34951                   0.94143  0.66557                        0.41978   \n",
       "1  1.40223                   0.94784  0.62877                        0.14145   \n",
       "2  1.36058                   0.87464  0.64938                        0.48357   \n",
       "3  1.33095                   0.88521  0.66973                        0.36503   \n",
       "4  1.32261                   0.90563  0.63297                        0.32957   \n",
       "\n",
       "   Generosity  Dystopia Residual  \n",
       "0     0.29678            2.51738  \n",
       "1     0.43630            2.70201  \n",
       "2     0.34139            2.49204  \n",
       "3     0.34699            2.46531  \n",
       "4     0.45811            2.45176  "
      ]
     },
     "execution_count": 26,
     "metadata": {},
     "output_type": "execute_result"
    }
   ],
   "source": [
    "df.head()"
   ]
  },
  {
   "cell_type": "markdown",
   "metadata": {},
   "source": [
    "New dataset has 158 rows and 10 columns"
   ]
  },
  {
   "cell_type": "code",
   "execution_count": 27,
   "metadata": {},
   "outputs": [
    {
     "data": {
      "text/html": [
       "<div>\n",
       "<style scoped>\n",
       "    .dataframe tbody tr th:only-of-type {\n",
       "        vertical-align: middle;\n",
       "    }\n",
       "\n",
       "    .dataframe tbody tr th {\n",
       "        vertical-align: top;\n",
       "    }\n",
       "\n",
       "    .dataframe thead th {\n",
       "        text-align: right;\n",
       "    }\n",
       "</style>\n",
       "<table border=\"1\" class=\"dataframe\">\n",
       "  <thead>\n",
       "    <tr style=\"text-align: right;\">\n",
       "      <th></th>\n",
       "      <th>Happiness Rank</th>\n",
       "      <th>Happiness Score</th>\n",
       "      <th>Standard Error</th>\n",
       "      <th>Economy (GDP per Capita)</th>\n",
       "      <th>Family</th>\n",
       "      <th>Health (Life Expectancy)</th>\n",
       "      <th>Freedom</th>\n",
       "      <th>Trust (Government Corruption)</th>\n",
       "      <th>Generosity</th>\n",
       "      <th>Dystopia Residual</th>\n",
       "    </tr>\n",
       "  </thead>\n",
       "  <tbody>\n",
       "    <tr>\n",
       "      <th>count</th>\n",
       "      <td>158.000000</td>\n",
       "      <td>158.000000</td>\n",
       "      <td>158.000000</td>\n",
       "      <td>158.000000</td>\n",
       "      <td>158.000000</td>\n",
       "      <td>158.000000</td>\n",
       "      <td>158.000000</td>\n",
       "      <td>158.000000</td>\n",
       "      <td>158.000000</td>\n",
       "      <td>158.000000</td>\n",
       "    </tr>\n",
       "    <tr>\n",
       "      <th>mean</th>\n",
       "      <td>79.493671</td>\n",
       "      <td>5.375734</td>\n",
       "      <td>0.047885</td>\n",
       "      <td>0.846137</td>\n",
       "      <td>0.991046</td>\n",
       "      <td>0.630259</td>\n",
       "      <td>0.428615</td>\n",
       "      <td>0.143422</td>\n",
       "      <td>0.237296</td>\n",
       "      <td>2.098977</td>\n",
       "    </tr>\n",
       "    <tr>\n",
       "      <th>std</th>\n",
       "      <td>45.754363</td>\n",
       "      <td>1.145010</td>\n",
       "      <td>0.017146</td>\n",
       "      <td>0.403121</td>\n",
       "      <td>0.272369</td>\n",
       "      <td>0.247078</td>\n",
       "      <td>0.150693</td>\n",
       "      <td>0.120034</td>\n",
       "      <td>0.126685</td>\n",
       "      <td>0.553550</td>\n",
       "    </tr>\n",
       "    <tr>\n",
       "      <th>min</th>\n",
       "      <td>1.000000</td>\n",
       "      <td>2.839000</td>\n",
       "      <td>0.018480</td>\n",
       "      <td>0.000000</td>\n",
       "      <td>0.000000</td>\n",
       "      <td>0.000000</td>\n",
       "      <td>0.000000</td>\n",
       "      <td>0.000000</td>\n",
       "      <td>0.000000</td>\n",
       "      <td>0.328580</td>\n",
       "    </tr>\n",
       "    <tr>\n",
       "      <th>25%</th>\n",
       "      <td>40.250000</td>\n",
       "      <td>4.526000</td>\n",
       "      <td>0.037268</td>\n",
       "      <td>0.545808</td>\n",
       "      <td>0.856823</td>\n",
       "      <td>0.439185</td>\n",
       "      <td>0.328330</td>\n",
       "      <td>0.061675</td>\n",
       "      <td>0.150553</td>\n",
       "      <td>1.759410</td>\n",
       "    </tr>\n",
       "    <tr>\n",
       "      <th>50%</th>\n",
       "      <td>79.500000</td>\n",
       "      <td>5.232500</td>\n",
       "      <td>0.043940</td>\n",
       "      <td>0.910245</td>\n",
       "      <td>1.029510</td>\n",
       "      <td>0.696705</td>\n",
       "      <td>0.435515</td>\n",
       "      <td>0.107220</td>\n",
       "      <td>0.216130</td>\n",
       "      <td>2.095415</td>\n",
       "    </tr>\n",
       "    <tr>\n",
       "      <th>75%</th>\n",
       "      <td>118.750000</td>\n",
       "      <td>6.243750</td>\n",
       "      <td>0.052300</td>\n",
       "      <td>1.158448</td>\n",
       "      <td>1.214405</td>\n",
       "      <td>0.811013</td>\n",
       "      <td>0.549092</td>\n",
       "      <td>0.180255</td>\n",
       "      <td>0.309883</td>\n",
       "      <td>2.462415</td>\n",
       "    </tr>\n",
       "    <tr>\n",
       "      <th>max</th>\n",
       "      <td>158.000000</td>\n",
       "      <td>7.587000</td>\n",
       "      <td>0.136930</td>\n",
       "      <td>1.690420</td>\n",
       "      <td>1.402230</td>\n",
       "      <td>1.025250</td>\n",
       "      <td>0.669730</td>\n",
       "      <td>0.551910</td>\n",
       "      <td>0.795880</td>\n",
       "      <td>3.602140</td>\n",
       "    </tr>\n",
       "  </tbody>\n",
       "</table>\n",
       "</div>"
      ],
      "text/plain": [
       "       Happiness Rank  Happiness Score  Standard Error  \\\n",
       "count      158.000000       158.000000      158.000000   \n",
       "mean        79.493671         5.375734        0.047885   \n",
       "std         45.754363         1.145010        0.017146   \n",
       "min          1.000000         2.839000        0.018480   \n",
       "25%         40.250000         4.526000        0.037268   \n",
       "50%         79.500000         5.232500        0.043940   \n",
       "75%        118.750000         6.243750        0.052300   \n",
       "max        158.000000         7.587000        0.136930   \n",
       "\n",
       "       Economy (GDP per Capita)      Family  Health (Life Expectancy)  \\\n",
       "count                158.000000  158.000000                158.000000   \n",
       "mean                   0.846137    0.991046                  0.630259   \n",
       "std                    0.403121    0.272369                  0.247078   \n",
       "min                    0.000000    0.000000                  0.000000   \n",
       "25%                    0.545808    0.856823                  0.439185   \n",
       "50%                    0.910245    1.029510                  0.696705   \n",
       "75%                    1.158448    1.214405                  0.811013   \n",
       "max                    1.690420    1.402230                  1.025250   \n",
       "\n",
       "          Freedom  Trust (Government Corruption)  Generosity  \\\n",
       "count  158.000000                     158.000000  158.000000   \n",
       "mean     0.428615                       0.143422    0.237296   \n",
       "std      0.150693                       0.120034    0.126685   \n",
       "min      0.000000                       0.000000    0.000000   \n",
       "25%      0.328330                       0.061675    0.150553   \n",
       "50%      0.435515                       0.107220    0.216130   \n",
       "75%      0.549092                       0.180255    0.309883   \n",
       "max      0.669730                       0.551910    0.795880   \n",
       "\n",
       "       Dystopia Residual  \n",
       "count         158.000000  \n",
       "mean            2.098977  \n",
       "std             0.553550  \n",
       "min             0.328580  \n",
       "25%             1.759410  \n",
       "50%             2.095415  \n",
       "75%             2.462415  \n",
       "max             3.602140  "
      ]
     },
     "execution_count": 27,
     "metadata": {},
     "output_type": "execute_result"
    }
   ],
   "source": [
    "df.describe() #statistical analysis"
   ]
  },
  {
   "cell_type": "code",
   "execution_count": 28,
   "metadata": {},
   "outputs": [
    {
     "data": {
      "text/plain": [
       "Happiness Rank                   0.000418\n",
       "Happiness Score                  0.097769\n",
       "Standard Error                   1.983439\n",
       "Economy (GDP per Capita)        -0.317575\n",
       "Family                          -1.006893\n",
       "Health (Life Expectancy)        -0.705328\n",
       "Freedom                         -0.413462\n",
       "Trust (Government Corruption)    1.385463\n",
       "Generosity                       1.001961\n",
       "Dystopia Residual               -0.238911\n",
       "dtype: float64"
      ]
     },
     "execution_count": 28,
     "metadata": {},
     "output_type": "execute_result"
    }
   ],
   "source": [
    "df.skew()"
   ]
  },
  {
   "cell_type": "code",
   "execution_count": 29,
   "metadata": {},
   "outputs": [
    {
     "data": {
      "text/html": [
       "<div>\n",
       "<style scoped>\n",
       "    .dataframe tbody tr th:only-of-type {\n",
       "        vertical-align: middle;\n",
       "    }\n",
       "\n",
       "    .dataframe tbody tr th {\n",
       "        vertical-align: top;\n",
       "    }\n",
       "\n",
       "    .dataframe thead th {\n",
       "        text-align: right;\n",
       "    }\n",
       "</style>\n",
       "<table border=\"1\" class=\"dataframe\">\n",
       "  <thead>\n",
       "    <tr style=\"text-align: right;\">\n",
       "      <th></th>\n",
       "      <th>Happiness Rank</th>\n",
       "      <th>Happiness Score</th>\n",
       "      <th>Standard Error</th>\n",
       "      <th>Economy (GDP per Capita)</th>\n",
       "      <th>Family</th>\n",
       "      <th>Health (Life Expectancy)</th>\n",
       "      <th>Freedom</th>\n",
       "      <th>Trust (Government Corruption)</th>\n",
       "      <th>Generosity</th>\n",
       "      <th>Dystopia Residual</th>\n",
       "    </tr>\n",
       "  </thead>\n",
       "  <tbody>\n",
       "    <tr>\n",
       "      <th>Happiness Rank</th>\n",
       "      <td>1.000000</td>\n",
       "      <td>-0.992105</td>\n",
       "      <td>0.158516</td>\n",
       "      <td>-0.785267</td>\n",
       "      <td>-0.733644</td>\n",
       "      <td>-0.735613</td>\n",
       "      <td>-0.556886</td>\n",
       "      <td>-0.372315</td>\n",
       "      <td>-0.160142</td>\n",
       "      <td>-0.521999</td>\n",
       "    </tr>\n",
       "    <tr>\n",
       "      <th>Happiness Score</th>\n",
       "      <td>-0.992105</td>\n",
       "      <td>1.000000</td>\n",
       "      <td>-0.177254</td>\n",
       "      <td>0.780966</td>\n",
       "      <td>0.740605</td>\n",
       "      <td>0.724200</td>\n",
       "      <td>0.568211</td>\n",
       "      <td>0.395199</td>\n",
       "      <td>0.180319</td>\n",
       "      <td>0.530474</td>\n",
       "    </tr>\n",
       "    <tr>\n",
       "      <th>Standard Error</th>\n",
       "      <td>0.158516</td>\n",
       "      <td>-0.177254</td>\n",
       "      <td>1.000000</td>\n",
       "      <td>-0.217651</td>\n",
       "      <td>-0.120728</td>\n",
       "      <td>-0.310287</td>\n",
       "      <td>-0.129773</td>\n",
       "      <td>-0.178325</td>\n",
       "      <td>-0.088439</td>\n",
       "      <td>0.083981</td>\n",
       "    </tr>\n",
       "    <tr>\n",
       "      <th>Economy (GDP per Capita)</th>\n",
       "      <td>-0.785267</td>\n",
       "      <td>0.780966</td>\n",
       "      <td>-0.217651</td>\n",
       "      <td>1.000000</td>\n",
       "      <td>0.645299</td>\n",
       "      <td>0.816478</td>\n",
       "      <td>0.370300</td>\n",
       "      <td>0.307885</td>\n",
       "      <td>-0.010465</td>\n",
       "      <td>0.040059</td>\n",
       "    </tr>\n",
       "    <tr>\n",
       "      <th>Family</th>\n",
       "      <td>-0.733644</td>\n",
       "      <td>0.740605</td>\n",
       "      <td>-0.120728</td>\n",
       "      <td>0.645299</td>\n",
       "      <td>1.000000</td>\n",
       "      <td>0.531104</td>\n",
       "      <td>0.441518</td>\n",
       "      <td>0.205605</td>\n",
       "      <td>0.087513</td>\n",
       "      <td>0.148117</td>\n",
       "    </tr>\n",
       "    <tr>\n",
       "      <th>Health (Life Expectancy)</th>\n",
       "      <td>-0.735613</td>\n",
       "      <td>0.724200</td>\n",
       "      <td>-0.310287</td>\n",
       "      <td>0.816478</td>\n",
       "      <td>0.531104</td>\n",
       "      <td>1.000000</td>\n",
       "      <td>0.360477</td>\n",
       "      <td>0.248335</td>\n",
       "      <td>0.108335</td>\n",
       "      <td>0.018979</td>\n",
       "    </tr>\n",
       "    <tr>\n",
       "      <th>Freedom</th>\n",
       "      <td>-0.556886</td>\n",
       "      <td>0.568211</td>\n",
       "      <td>-0.129773</td>\n",
       "      <td>0.370300</td>\n",
       "      <td>0.441518</td>\n",
       "      <td>0.360477</td>\n",
       "      <td>1.000000</td>\n",
       "      <td>0.493524</td>\n",
       "      <td>0.373916</td>\n",
       "      <td>0.062783</td>\n",
       "    </tr>\n",
       "    <tr>\n",
       "      <th>Trust (Government Corruption)</th>\n",
       "      <td>-0.372315</td>\n",
       "      <td>0.395199</td>\n",
       "      <td>-0.178325</td>\n",
       "      <td>0.307885</td>\n",
       "      <td>0.205605</td>\n",
       "      <td>0.248335</td>\n",
       "      <td>0.493524</td>\n",
       "      <td>1.000000</td>\n",
       "      <td>0.276123</td>\n",
       "      <td>-0.033105</td>\n",
       "    </tr>\n",
       "    <tr>\n",
       "      <th>Generosity</th>\n",
       "      <td>-0.160142</td>\n",
       "      <td>0.180319</td>\n",
       "      <td>-0.088439</td>\n",
       "      <td>-0.010465</td>\n",
       "      <td>0.087513</td>\n",
       "      <td>0.108335</td>\n",
       "      <td>0.373916</td>\n",
       "      <td>0.276123</td>\n",
       "      <td>1.000000</td>\n",
       "      <td>-0.101301</td>\n",
       "    </tr>\n",
       "    <tr>\n",
       "      <th>Dystopia Residual</th>\n",
       "      <td>-0.521999</td>\n",
       "      <td>0.530474</td>\n",
       "      <td>0.083981</td>\n",
       "      <td>0.040059</td>\n",
       "      <td>0.148117</td>\n",
       "      <td>0.018979</td>\n",
       "      <td>0.062783</td>\n",
       "      <td>-0.033105</td>\n",
       "      <td>-0.101301</td>\n",
       "      <td>1.000000</td>\n",
       "    </tr>\n",
       "  </tbody>\n",
       "</table>\n",
       "</div>"
      ],
      "text/plain": [
       "                               Happiness Rank  Happiness Score  \\\n",
       "Happiness Rank                       1.000000        -0.992105   \n",
       "Happiness Score                     -0.992105         1.000000   \n",
       "Standard Error                       0.158516        -0.177254   \n",
       "Economy (GDP per Capita)            -0.785267         0.780966   \n",
       "Family                              -0.733644         0.740605   \n",
       "Health (Life Expectancy)            -0.735613         0.724200   \n",
       "Freedom                             -0.556886         0.568211   \n",
       "Trust (Government Corruption)       -0.372315         0.395199   \n",
       "Generosity                          -0.160142         0.180319   \n",
       "Dystopia Residual                   -0.521999         0.530474   \n",
       "\n",
       "                               Standard Error  Economy (GDP per Capita)  \\\n",
       "Happiness Rank                       0.158516                 -0.785267   \n",
       "Happiness Score                     -0.177254                  0.780966   \n",
       "Standard Error                       1.000000                 -0.217651   \n",
       "Economy (GDP per Capita)            -0.217651                  1.000000   \n",
       "Family                              -0.120728                  0.645299   \n",
       "Health (Life Expectancy)            -0.310287                  0.816478   \n",
       "Freedom                             -0.129773                  0.370300   \n",
       "Trust (Government Corruption)       -0.178325                  0.307885   \n",
       "Generosity                          -0.088439                 -0.010465   \n",
       "Dystopia Residual                    0.083981                  0.040059   \n",
       "\n",
       "                                 Family  Health (Life Expectancy)   Freedom  \\\n",
       "Happiness Rank                -0.733644                 -0.735613 -0.556886   \n",
       "Happiness Score                0.740605                  0.724200  0.568211   \n",
       "Standard Error                -0.120728                 -0.310287 -0.129773   \n",
       "Economy (GDP per Capita)       0.645299                  0.816478  0.370300   \n",
       "Family                         1.000000                  0.531104  0.441518   \n",
       "Health (Life Expectancy)       0.531104                  1.000000  0.360477   \n",
       "Freedom                        0.441518                  0.360477  1.000000   \n",
       "Trust (Government Corruption)  0.205605                  0.248335  0.493524   \n",
       "Generosity                     0.087513                  0.108335  0.373916   \n",
       "Dystopia Residual              0.148117                  0.018979  0.062783   \n",
       "\n",
       "                               Trust (Government Corruption)  Generosity  \\\n",
       "Happiness Rank                                     -0.372315   -0.160142   \n",
       "Happiness Score                                     0.395199    0.180319   \n",
       "Standard Error                                     -0.178325   -0.088439   \n",
       "Economy (GDP per Capita)                            0.307885   -0.010465   \n",
       "Family                                              0.205605    0.087513   \n",
       "Health (Life Expectancy)                            0.248335    0.108335   \n",
       "Freedom                                             0.493524    0.373916   \n",
       "Trust (Government Corruption)                       1.000000    0.276123   \n",
       "Generosity                                          0.276123    1.000000   \n",
       "Dystopia Residual                                  -0.033105   -0.101301   \n",
       "\n",
       "                               Dystopia Residual  \n",
       "Happiness Rank                         -0.521999  \n",
       "Happiness Score                         0.530474  \n",
       "Standard Error                          0.083981  \n",
       "Economy (GDP per Capita)                0.040059  \n",
       "Family                                  0.148117  \n",
       "Health (Life Expectancy)                0.018979  \n",
       "Freedom                                 0.062783  \n",
       "Trust (Government Corruption)          -0.033105  \n",
       "Generosity                             -0.101301  \n",
       "Dystopia Residual                       1.000000  "
      ]
     },
     "execution_count": 29,
     "metadata": {},
     "output_type": "execute_result"
    }
   ],
   "source": [
    "corr=df.corr()\n",
    "corr"
   ]
  },
  {
   "cell_type": "code",
   "execution_count": 30,
   "metadata": {},
   "outputs": [
    {
     "data": {
      "image/png": "[encoded data removed]",
      "text/plain": [
       "<Figure size 432x288 with 2 Axes>"
      ]
     },
     "metadata": {
      "needs_background": "light"
     },
     "output_type": "display_data"
    }
   ],
   "source": [
    "import matplotlib.pyplot as plt\n",
    "import seaborn as sns\n",
    "sns.heatmap(np.abs(corr),annot=True)\n",
    "plt.show()"
   ]
  },
  {
   "cell_type": "code",
   "execution_count": 31,
   "metadata": {},
   "outputs": [],
   "source": [
    "corr=np.abs(corr)"
   ]
  },
  {
   "cell_type": "code",
   "execution_count": 32,
   "metadata": {},
   "outputs": [
    {
     "data": {
      "text/plain": [
       "Happiness Rank                   1.000000\n",
       "Happiness Score                  0.992105\n",
       "Economy (GDP per Capita)         0.785267\n",
       "Health (Life Expectancy)         0.735613\n",
       "Family                           0.733644\n",
       "Freedom                          0.556886\n",
       "Dystopia Residual                0.521999\n",
       "Trust (Government Corruption)    0.372315\n",
       "Generosity                       0.160142\n",
       "Standard Error                   0.158516\n",
       "Name: Happiness Rank, dtype: float64"
      ]
     },
     "execution_count": 32,
     "metadata": {},
     "output_type": "execute_result"
    }
   ],
   "source": [
    "corr['Happiness Rank'].sort_values(ascending=False)"
   ]
  },
  {
   "cell_type": "code",
   "execution_count": 33,
   "metadata": {},
   "outputs": [],
   "source": [
    "x=df.drop('Happiness Rank', axis=1)\n",
    "y=df['Happiness Rank']"
   ]
  },
  {
   "cell_type": "code",
   "execution_count": 34,
   "metadata": {},
   "outputs": [
    {
     "name": "stdout",
     "output_type": "stream",
     "text": [
      "(158, 9) (158,)\n"
     ]
    }
   ],
   "source": [
    "print(x.shape,y.shape)"
   ]
  },
  {
   "cell_type": "code",
   "execution_count": 35,
   "metadata": {},
   "outputs": [
    {
     "data": {
      "text/plain": [
       "0        1\n",
       "1        2\n",
       "2        3\n",
       "3        4\n",
       "4        5\n",
       "      ... \n",
       "153    154\n",
       "154    155\n",
       "155    156\n",
       "156    157\n",
       "157    158\n",
       "Name: Happiness Rank, Length: 158, dtype: int64"
      ]
     },
     "execution_count": 35,
     "metadata": {},
     "output_type": "execute_result"
    }
   ],
   "source": [
    "df['Happiness Rank']"
   ]
  },
  {
   "cell_type": "code",
   "execution_count": 36,
   "metadata": {},
   "outputs": [
    {
     "data": {
      "text/plain": [
       "array([[1.93736005, 0.80592569, 1.36962124, ..., 2.30965159, 0.47103971,\n",
       "        0.75825809],\n",
       "       [1.91458063, 0.05588945, 1.13522625, ..., 0.01647953, 1.57585637,\n",
       "        1.09285682],\n",
       "       [1.88479215, 0.8544869 , 1.19286069, ..., 2.8427738 , 0.8242928 ,\n",
       "        0.71233526],\n",
       "       ...,\n",
       "       [2.0761992 , 0.13253425, 0.45524543, ..., 0.38141902, 1.85689094,\n",
       "        3.20843049],\n",
       "       [2.1646885 , 2.26396166, 2.06756644, ..., 0.35771452, 0.31694987,\n",
       "        0.48198451],\n",
       "       [2.22251319, 1.13418227, 1.58633379, ..., 0.30180313, 0.5581534 ,\n",
       "        0.96361241]])"
      ]
     },
     "execution_count": 36,
     "metadata": {},
     "output_type": "execute_result"
    }
   ],
   "source": [
    "import scipy \n",
    "from scipy.stats import zscore\n",
    "z=np.abs(zscore(x))\n",
    "z"
   ]
  },
  {
   "cell_type": "code",
   "execution_count": 37,
   "metadata": {},
   "outputs": [
    {
     "name": "stdout",
     "output_type": "stream",
     "text": [
      "(array([ 27,  40,  64, 115, 128, 147, 153, 155, 157], dtype=int64), array([6, 1, 1, 1, 7, 3, 6, 8, 3], dtype=int64))\n"
     ]
    }
   ],
   "source": [
    "threshold=3\n",
    "print(np.where(z>3))"
   ]
  },
  {
   "cell_type": "code",
   "execution_count": 38,
   "metadata": {},
   "outputs": [
    {
     "name": "stdout",
     "output_type": "stream",
     "text": [
      "3.1646194851713774 3.5727739331415806 5.209813157066768 3.673991869431451 4.423261580434631 3.65018347485875 3.4139224398643333 3.2084304855119408 3.1347248549706186\n"
     ]
    }
   ],
   "source": [
    "print(z[27][6],z[40][1],z[64][1],z[115][1],z[128][7],z[147][3],z[153][6],z[155][8],z[157][3])"
   ]
  },
  {
   "cell_type": "code",
   "execution_count": 39,
   "metadata": {},
   "outputs": [],
   "source": [
    "from sklearn.preprocessing import power_transform\n",
    "df_new=power_transform(x)\n",
    "df_new=pd.DataFrame(df_new,columns=x.columns)"
   ]
  },
  {
   "cell_type": "code",
   "execution_count": 40,
   "metadata": {},
   "outputs": [
    {
     "data": {
      "text/plain": [
       "Happiness Score                 -0.027956\n",
       "Standard Error                  -0.020092\n",
       "Economy (GDP per Capita)        -0.127233\n",
       "Family                          -0.169651\n",
       "Health (Life Expectancy)        -0.183181\n",
       "Freedom                         -0.080728\n",
       "Trust (Government Corruption)    0.185965\n",
       "Generosity                       0.013320\n",
       "Dystopia Residual                0.022925\n",
       "dtype: float64"
      ]
     },
     "execution_count": 40,
     "metadata": {},
     "output_type": "execute_result"
    }
   ],
   "source": [
    "df_new.skew()"
   ]
  },
  {
   "cell_type": "code",
   "execution_count": 41,
   "metadata": {},
   "outputs": [],
   "source": [
    "x=df_new"
   ]
  },
  {
   "cell_type": "code",
   "execution_count": 42,
   "metadata": {},
   "outputs": [
    {
     "data": {
      "text/plain": [
       "Happiness Score                 -0.027956\n",
       "Standard Error                  -0.020092\n",
       "Economy (GDP per Capita)        -0.127233\n",
       "Family                          -0.169651\n",
       "Health (Life Expectancy)        -0.183181\n",
       "Freedom                         -0.080728\n",
       "Trust (Government Corruption)    0.185965\n",
       "Generosity                       0.013320\n",
       "Dystopia Residual                0.022925\n",
       "dtype: float64"
      ]
     },
     "execution_count": 42,
     "metadata": {},
     "output_type": "execute_result"
    }
   ],
   "source": [
    "x.skew()"
   ]
  },
  {
   "cell_type": "code",
   "execution_count": 43,
   "metadata": {},
   "outputs": [
    {
     "name": "stdout",
     "output_type": "stream",
     "text": [
      "(array([20, 25], dtype=int64), array([1, 1], dtype=int64))\n"
     ]
    }
   ],
   "source": [
    "z=np.abs(zscore(x))\n",
    "threshold=3\n",
    "print(np.where(z>3))"
   ]
  },
  {
   "cell_type": "code",
   "execution_count": 44,
   "metadata": {},
   "outputs": [
    {
     "name": "stdout",
     "output_type": "stream",
     "text": [
      "3.059771125220746 3.0901118949028485\n"
     ]
    }
   ],
   "source": [
    "print(z[20][1],z[25][1])"
   ]
  },
  {
   "cell_type": "markdown",
   "metadata": {},
   "source": [
    "we can see that only two outliers are present but these are very near to whiskers so these are not outliers"
   ]
  },
  {
   "cell_type": "code",
   "execution_count": 45,
   "metadata": {},
   "outputs": [],
   "source": [
    "from sklearn.model_selection import train_test_split\n",
    "from sklearn.metrics import r2_score,mean_squared_error,mean_absolute_error\n",
    "from sklearn.linear_model import LinearRegression"
   ]
  },
  {
   "cell_type": "code",
   "execution_count": 46,
   "metadata": {},
   "outputs": [
    {
     "name": "stdout",
     "output_type": "stream",
     "text": [
      "(110, 9) (48, 9) (110,) (48,)\n"
     ]
    }
   ],
   "source": [
    "x_train,x_test,y_train,y_test=train_test_split(x,y,test_size=.30,random_state=42)\n",
    "print(x_train.shape,x_test.shape,y_train.shape,y_test.shape)"
   ]
  },
  {
   "cell_type": "code",
   "execution_count": 47,
   "metadata": {},
   "outputs": [
    {
     "data": {
      "text/plain": [
       "0.9856820871224815"
      ]
     },
     "execution_count": 47,
     "metadata": {},
     "output_type": "execute_result"
    }
   ],
   "source": [
    "lr=LinearRegression()\n",
    "lr.fit(x_train,y_train)\n",
    "lr.score(x_train,y_train)"
   ]
  },
  {
   "cell_type": "code",
   "execution_count": 48,
   "metadata": {},
   "outputs": [],
   "source": [
    "pred=lr.predict(x_test)"
   ]
  },
  {
   "cell_type": "code",
   "execution_count": 49,
   "metadata": {},
   "outputs": [
    {
     "data": {
      "text/plain": [
       "array([127.17106146,  50.92433995, 126.20793179, 179.74663871,\n",
       "        97.08593991,  31.84446186,  98.72075862, 100.23374828,\n",
       "        93.44551473, 139.23921615,  21.11946591,  62.24649581,\n",
       "        18.77178386,  74.28857875,  24.20481804,  33.45850975,\n",
       "       114.57173989, 105.06122089,  96.6624921 ,  62.52941625,\n",
       "       149.92353999,  17.79644525,   8.20220181,   6.11823417,\n",
       "        36.01619709,  85.94016842,  61.15658386, 138.52287399,\n",
       "       120.08040593, 149.49792223, 145.28820797,  80.40586216,\n",
       "       136.24936069,  59.87648577, 118.28519273,  90.24562606,\n",
       "       162.27930459,  51.16717262,  70.5899765 , 113.03949559,\n",
       "        28.17912478, 133.61842274,  87.2554629 , 150.76758667,\n",
       "        41.70815238,  84.48525367,  22.83646327, 121.5662363 ])"
      ]
     },
     "execution_count": 49,
     "metadata": {},
     "output_type": "execute_result"
    }
   ],
   "source": [
    "pred"
   ]
  },
  {
   "cell_type": "code",
   "execution_count": 50,
   "metadata": {},
   "outputs": [
    {
     "data": {
      "text/plain": [
       "128    129\n",
       "45      46\n",
       "134    135\n",
       "156    157\n",
       "90      91\n",
       "29      30\n",
       "96      97\n",
       "98      99\n",
       "95      96\n",
       "140    141\n",
       "19      20\n",
       "56      57\n",
       "15      16\n",
       "69      70\n",
       "24      25\n",
       "30      31\n",
       "122    123\n",
       "109    110\n",
       "93      94\n",
       "65      66\n",
       "150    151\n",
       "18      19\n",
       "12      13\n",
       "9       10\n",
       "31      32\n",
       "81      82\n",
       "51      52\n",
       "139    140\n",
       "125    126\n",
       "146    147\n",
       "145    146\n",
       "75      76\n",
       "137    138\n",
       "55      56\n",
       "126    127\n",
       "84      85\n",
       "154    155\n",
       "42      43\n",
       "67      68\n",
       "117    118\n",
       "26      27\n",
       "136    137\n",
       "78      79\n",
       "149    150\n",
       "36      37\n",
       "76      77\n",
       "22      23\n",
       "133    134\n",
       "Name: Happiness Rank, dtype: int64"
      ]
     },
     "execution_count": 50,
     "metadata": {},
     "output_type": "execute_result"
    }
   ],
   "source": [
    "y_test"
   ]
  },
  {
   "cell_type": "code",
   "execution_count": 51,
   "metadata": {},
   "outputs": [
    {
     "name": "stdout",
     "output_type": "stream",
     "text": [
      "34.57225975660444\n"
     ]
    }
   ],
   "source": [
    "print(mean_squared_error(y_test,pred))"
   ]
  },
  {
   "cell_type": "code",
   "execution_count": 52,
   "metadata": {},
   "outputs": [
    {
     "name": "stdout",
     "output_type": "stream",
     "text": [
      "5.879818003697431\n"
     ]
    }
   ],
   "source": [
    "print(np.sqrt(mean_squared_error(y_test,pred)))"
   ]
  },
  {
   "cell_type": "code",
   "execution_count": 53,
   "metadata": {},
   "outputs": [
    {
     "data": {
      "text/plain": [
       "0.9841953847409991"
      ]
     },
     "execution_count": 53,
     "metadata": {},
     "output_type": "execute_result"
    }
   ],
   "source": [
    "r2_score(y_test,pred)"
   ]
  },
  {
   "cell_type": "code",
   "execution_count": 54,
   "metadata": {},
   "outputs": [
    {
     "data": {
      "text/plain": [
       "1.0"
      ]
     },
     "execution_count": 54,
     "metadata": {},
     "output_type": "execute_result"
    }
   ],
   "source": [
    "from sklearn.tree import DecisionTreeRegressor\n",
    "DTR=DecisionTreeRegressor()\n",
    "DTR.fit(x_train,y_train)\n",
    "DTR.score(x_train,y_train)\n"
   ]
  },
  {
   "cell_type": "code",
   "execution_count": 55,
   "metadata": {},
   "outputs": [
    {
     "data": {
      "text/plain": [
       "array([131.,  49., 136., 156.,  90.,  29.,  98., 100.,  95., 145.,  22.,\n",
       "        58.,  14.,  69.,  22.,  35., 119., 111.,  95.,  67., 145.,  18.,\n",
       "        15.,   9.,  33.,  84.,  50., 148., 130., 143., 143.,  73., 139.,\n",
       "        59., 130.,  90., 152.,  42.,  69., 115.,  28., 133.,  80., 149.,\n",
       "        41.,  81.,  22., 136.])"
      ]
     },
     "execution_count": 55,
     "metadata": {},
     "output_type": "execute_result"
    }
   ],
   "source": [
    "prediction=DTR.predict(x_test)\n",
    "prediction"
   ]
  },
  {
   "cell_type": "code",
   "execution_count": 56,
   "metadata": {},
   "outputs": [
    {
     "data": {
      "text/plain": [
       "0.9964285367060116"
      ]
     },
     "execution_count": 56,
     "metadata": {},
     "output_type": "execute_result"
    }
   ],
   "source": [
    "r2_score(y_test,prediction)"
   ]
  },
  {
   "cell_type": "code",
   "execution_count": 57,
   "metadata": {},
   "outputs": [
    {
     "data": {
      "text/plain": [
       "0.9997426580907202"
      ]
     },
     "execution_count": 57,
     "metadata": {},
     "output_type": "execute_result"
    }
   ],
   "source": [
    "from sklearn.ensemble import RandomForestRegressor\n",
    "RFR=RandomForestRegressor()\n",
    "RFR.fit(x_train,y_train)\n",
    "RFR.score(x_train,y_train)"
   ]
  },
  {
   "cell_type": "code",
   "execution_count": 58,
   "metadata": {},
   "outputs": [
    {
     "data": {
      "text/plain": [
       "array([130.56,  46.89, 131.7 , 153.95,  89.17,  29.3 ,  99.21, 100.05,\n",
       "        94.15, 143.49,  19.57,  58.26,  17.13,  70.34,  24.59,  33.18,\n",
       "       121.65, 110.84,  93.98,  66.41, 148.29,  17.38,  13.01,   8.85,\n",
       "        32.8 ,  82.3 ,  51.41, 141.9 , 127.74, 149.09, 144.47,  75.48,\n",
       "       140.05,  57.37, 129.85,  86.15, 152.49,  42.32,  68.09, 115.97,\n",
       "        26.45, 138.67,  79.37, 149.35,  38.6 ,  78.52,  24.37, 131.7 ])"
      ]
     },
     "execution_count": 58,
     "metadata": {},
     "output_type": "execute_result"
    }
   ],
   "source": [
    "predi=RFR.predict(x_test)\n",
    "predi"
   ]
  },
  {
   "cell_type": "code",
   "execution_count": 59,
   "metadata": {},
   "outputs": [
    {
     "name": "stdout",
     "output_type": "stream",
     "text": [
      "Mean squared error: 2.536220833333337\n"
     ]
    }
   ],
   "source": [
    "print(\"Mean squared error:\",mean_squared_error(y_test,predi))"
   ]
  },
  {
   "cell_type": "code",
   "execution_count": 60,
   "metadata": {},
   "outputs": [
    {
     "data": {
      "text/plain": [
       "0.9988405734897026"
      ]
     },
     "execution_count": 60,
     "metadata": {},
     "output_type": "execute_result"
    }
   ],
   "source": [
    "r2_score(y_test,predi)"
   ]
  },
  {
   "cell_type": "code",
   "execution_count": 61,
   "metadata": {},
   "outputs": [
    {
     "name": "stdout",
     "output_type": "stream",
     "text": [
      "0.9933155489862979\n",
      "0.997258497326363\n",
      "0.981873242543948\n"
     ]
    }
   ],
   "source": [
    "from sklearn.model_selection import cross_val_score\n",
    "print(cross_val_score(DTR,x_train,y_train,scoring='r2',cv=5).mean())\n",
    "print(cross_val_score(RFR,x_train,y_train,scoring='r2',cv=5).mean())\n",
    "print(cross_val_score(lr,x_train,y_train,scoring='r2',cv=5).mean())"
   ]
  },
  {
   "cell_type": "markdown",
   "metadata": {},
   "source": [
    "From the above observations Random Forest Regressor is the best algorithm suits my model."
   ]
  },
  {
   "cell_type": "code",
   "execution_count": 62,
   "metadata": {},
   "outputs": [],
   "source": [
    "from sklearn.model_selection import GridSearchCV"
   ]
  },
  {
   "cell_type": "code",
   "execution_count": 63,
   "metadata": {},
   "outputs": [
    {
     "name": "stdout",
     "output_type": "stream",
     "text": [
      "0.9973151484419327 {'bootstrap': True, 'max_features': 'auto', 'n_estimators': 100}\n"
     ]
    }
   ],
   "source": [
    "estimator=RandomForestRegressor()\n",
    "para_grids={\"n_estimators\":[10,20,30,50,80,100],\n",
    "             \"max_features\":[\"auto\",\"log2\",\"sqrt\"],\n",
    "              \"bootstrap\":[True,False]}\n",
    "grid=GridSearchCV(estimator,para_grids,scoring=\"r2\")\n",
    "grid.fit(x_train,y_train)\n",
    "forest=grid.best_estimator_\n",
    "predictions=forest.predict(x_test)\n",
    "print(grid.best_score_,grid.best_params_)\n",
    "mse=mean_absolute_error(y_test,predictions)"
   ]
  },
  {
   "cell_type": "code",
   "execution_count": 64,
   "metadata": {},
   "outputs": [
    {
     "data": {
      "text/plain": [
       "1.2616666666666663"
      ]
     },
     "execution_count": 64,
     "metadata": {},
     "output_type": "execute_result"
    }
   ],
   "source": [
    "mse"
   ]
  },
  {
   "cell_type": "code",
   "execution_count": 65,
   "metadata": {},
   "outputs": [
    {
     "data": {
      "text/plain": [
       "0.9996745091724041"
      ]
     },
     "execution_count": 65,
     "metadata": {},
     "output_type": "execute_result"
    }
   ],
   "source": [
    "from sklearn.ensemble import RandomForestRegressor\n",
    "RFR=RandomForestRegressor(bootstrap=True,max_features=\"auto\",n_estimators=80)\n",
    "RFR.fit(x_train,y_train)\n",
    "RFR.score(x_train,y_train)"
   ]
  },
  {
   "cell_type": "code",
   "execution_count": 66,
   "metadata": {},
   "outputs": [
    {
     "data": {
      "text/plain": [
       "array([130.6875,  47.125 , 131.8875, 155.3   ,  89.9   ,  29.55  ,\n",
       "        99.625 , 100.5375,  92.85  , 143.125 ,  19.4   ,  57.9625,\n",
       "        18.225 ,  70.7875,  25.6   ,  33.5625, 120.3   , 110.6625,\n",
       "        92.7   ,  65.6875, 149.35  ,  17.5125,  12.35  ,   9.0375,\n",
       "        32.6125,  82.525 ,  51.45  , 140.825 , 126.375 , 147.8125,\n",
       "       144.75  ,  75.8125, 139.6   ,  57.325 , 130.125 ,  86.375 ,\n",
       "       151.65  ,  41.7375,  67.7375, 115.4375,  28.4375, 137.6125,\n",
       "        79.9875, 149.6125,  38.0625,  77.3125,  25.25  , 131.425 ])"
      ]
     },
     "execution_count": 66,
     "metadata": {},
     "output_type": "execute_result"
    }
   ],
   "source": [
    "predi=RFR.predict(x_test)\n",
    "predi"
   ]
  },
  {
   "cell_type": "code",
   "execution_count": 67,
   "metadata": {},
   "outputs": [
    {
     "name": "stdout",
     "output_type": "stream",
     "text": [
      "Mean squared error: 2.6525585937499985\n"
     ]
    }
   ],
   "source": [
    "print(\"Mean squared error:\",mean_squared_error(y_test,predi))"
   ]
  },
  {
   "cell_type": "code",
   "execution_count": 68,
   "metadata": {},
   "outputs": [
    {
     "data": {
      "text/plain": [
       "1.6286677358350286"
      ]
     },
     "execution_count": 68,
     "metadata": {},
     "output_type": "execute_result"
    }
   ],
   "source": [
    "rmse=np.sqrt(mean_squared_error(y_test,predi))\n",
    "rmse"
   ]
  },
  {
   "cell_type": "code",
   "execution_count": 69,
   "metadata": {},
   "outputs": [
    {
     "data": {
      "text/plain": [
       "0.9987873899964503"
      ]
     },
     "execution_count": 69,
     "metadata": {},
     "output_type": "execute_result"
    }
   ],
   "source": [
    "r2_score(y_test,predi)"
   ]
  },
  {
   "cell_type": "code",
   "execution_count": 70,
   "metadata": {},
   "outputs": [
    {
     "data": {
      "text/html": [
       "<div>\n",
       "<style scoped>\n",
       "    .dataframe tbody tr th:only-of-type {\n",
       "        vertical-align: middle;\n",
       "    }\n",
       "\n",
       "    .dataframe tbody tr th {\n",
       "        vertical-align: top;\n",
       "    }\n",
       "\n",
       "    .dataframe thead th {\n",
       "        text-align: right;\n",
       "    }\n",
       "</style>\n",
       "<table border=\"1\" class=\"dataframe\">\n",
       "  <thead>\n",
       "    <tr style=\"text-align: right;\">\n",
       "      <th></th>\n",
       "      <th>Happiness Score</th>\n",
       "      <th>Standard Error</th>\n",
       "      <th>Economy (GDP per Capita)</th>\n",
       "      <th>Family</th>\n",
       "      <th>Health (Life Expectancy)</th>\n",
       "      <th>Freedom</th>\n",
       "      <th>Trust (Government Corruption)</th>\n",
       "      <th>Generosity</th>\n",
       "      <th>Dystopia Residual</th>\n",
       "    </tr>\n",
       "  </thead>\n",
       "  <tbody>\n",
       "    <tr>\n",
       "      <th>128</th>\n",
       "      <td>-0.930990</td>\n",
       "      <td>-0.092893</td>\n",
       "      <td>-1.393290</td>\n",
       "      <td>-1.148146</td>\n",
       "      <td>-0.752830</td>\n",
       "      <td>-0.006921</td>\n",
       "      <td>0.748794</td>\n",
       "      <td>2.808264</td>\n",
       "      <td>-1.228063</td>\n",
       "    </tr>\n",
       "    <tr>\n",
       "      <th>45</th>\n",
       "      <td>0.557664</td>\n",
       "      <td>-0.794948</td>\n",
       "      <td>1.083206</td>\n",
       "      <td>1.114473</td>\n",
       "      <td>1.813643</td>\n",
       "      <td>0.392716</td>\n",
       "      <td>0.671821</td>\n",
       "      <td>-1.147407</td>\n",
       "      <td>-0.775334</td>\n",
       "    </tr>\n",
       "    <tr>\n",
       "      <th>134</th>\n",
       "      <td>-1.036900</td>\n",
       "      <td>-1.137214</td>\n",
       "      <td>0.030074</td>\n",
       "      <td>-1.039831</td>\n",
       "      <td>-0.220526</td>\n",
       "      <td>-1.589884</td>\n",
       "      <td>-0.693403</td>\n",
       "      <td>-1.077986</td>\n",
       "      <td>-0.921957</td>\n",
       "    </tr>\n",
       "    <tr>\n",
       "      <th>156</th>\n",
       "      <td>-2.312178</td>\n",
       "      <td>1.926902</td>\n",
       "      <td>-1.894954</td>\n",
       "      <td>-1.796803</td>\n",
       "      <td>-1.525700</td>\n",
       "      <td>-1.849903</td>\n",
       "      <td>-0.151946</td>\n",
       "      <td>-0.194829</td>\n",
       "      <td>-0.514801</td>\n",
       "    </tr>\n",
       "    <tr>\n",
       "      <th>90</th>\n",
       "      <td>-0.247831</td>\n",
       "      <td>1.056549</td>\n",
       "      <td>-1.561911</td>\n",
       "      <td>-0.342763</td>\n",
       "      <td>-0.905559</td>\n",
       "      <td>0.173136</td>\n",
       "      <td>1.722332</td>\n",
       "      <td>1.806068</td>\n",
       "      <td>-0.014698</td>\n",
       "    </tr>\n",
       "    <tr>\n",
       "      <th>29</th>\n",
       "      <td>1.045881</td>\n",
       "      <td>0.111782</td>\n",
       "      <td>0.481842</td>\n",
       "      <td>1.064092</td>\n",
       "      <td>0.596839</td>\n",
       "      <td>0.059658</td>\n",
       "      <td>-0.365569</td>\n",
       "      <td>-1.059232</td>\n",
       "      <td>1.374953</td>\n",
       "    </tr>\n",
       "    <tr>\n",
       "      <th>96</th>\n",
       "      <td>-0.389950</td>\n",
       "      <td>2.096058</td>\n",
       "      <td>-1.171658</td>\n",
       "      <td>0.028436</td>\n",
       "      <td>-1.840308</td>\n",
       "      <td>-0.797359</td>\n",
       "      <td>0.141317</td>\n",
       "      <td>-0.520151</td>\n",
       "      <td>1.300080</td>\n",
       "    </tr>\n",
       "    <tr>\n",
       "      <th>98</th>\n",
       "      <td>-0.409724</td>\n",
       "      <td>1.298283</td>\n",
       "      <td>-0.685702</td>\n",
       "      <td>-1.065990</td>\n",
       "      <td>-0.501451</td>\n",
       "      <td>1.167026</td>\n",
       "      <td>1.097718</td>\n",
       "      <td>1.404672</td>\n",
       "      <td>-0.681962</td>\n",
       "    </tr>\n",
       "    <tr>\n",
       "      <th>95</th>\n",
       "      <td>-0.344214</td>\n",
       "      <td>1.385250</td>\n",
       "      <td>-0.096340</td>\n",
       "      <td>-0.466581</td>\n",
       "      <td>0.615897</td>\n",
       "      <td>-1.967464</td>\n",
       "      <td>-1.899932</td>\n",
       "      <td>0.248286</td>\n",
       "      <td>-0.100086</td>\n",
       "    </tr>\n",
       "    <tr>\n",
       "      <th>140</th>\n",
       "      <td>-1.286718</td>\n",
       "      <td>-0.120707</td>\n",
       "      <td>-1.516491</td>\n",
       "      <td>0.456269</td>\n",
       "      <td>-1.220515</td>\n",
       "      <td>0.112546</td>\n",
       "      <td>-0.544909</td>\n",
       "      <td>0.577828</td>\n",
       "      <td>-1.212047</td>\n",
       "    </tr>\n",
       "    <tr>\n",
       "      <th>19</th>\n",
       "      <td>1.311835</td>\n",
       "      <td>-0.647583</td>\n",
       "      <td>1.536404</td>\n",
       "      <td>0.420800</td>\n",
       "      <td>0.715324</td>\n",
       "      <td>1.548700</td>\n",
       "      <td>1.685625</td>\n",
       "      <td>0.377826</td>\n",
       "      <td>0.239126</td>\n",
       "    </tr>\n",
       "    <tr>\n",
       "      <th>56</th>\n",
       "      <td>0.422869</td>\n",
       "      <td>0.626794</td>\n",
       "      <td>-0.679624</td>\n",
       "      <td>0.500051</td>\n",
       "      <td>0.368563</td>\n",
       "      <td>0.837758</td>\n",
       "      <td>0.770388</td>\n",
       "      <td>0.484617</td>\n",
       "      <td>0.382835</td>\n",
       "    </tr>\n",
       "    <tr>\n",
       "      <th>15</th>\n",
       "      <td>1.377891</td>\n",
       "      <td>-0.325881</td>\n",
       "      <td>0.289107</td>\n",
       "      <td>0.978252</td>\n",
       "      <td>0.142283</td>\n",
       "      <td>0.351187</td>\n",
       "      <td>0.627390</td>\n",
       "      <td>-0.709669</td>\n",
       "      <td>2.236762</td>\n",
       "    </tr>\n",
       "    <tr>\n",
       "      <th>69</th>\n",
       "      <td>0.182667</td>\n",
       "      <td>-0.239866</td>\n",
       "      <td>0.229158</td>\n",
       "      <td>0.944088</td>\n",
       "      <td>-0.541546</td>\n",
       "      <td>0.246747</td>\n",
       "      <td>1.420936</td>\n",
       "      <td>-0.460413</td>\n",
       "      <td>-0.449445</td>\n",
       "    </tr>\n",
       "    <tr>\n",
       "      <th>24</th>\n",
       "      <td>1.218771</td>\n",
       "      <td>0.327439</td>\n",
       "      <td>0.508857</td>\n",
       "      <td>0.791634</td>\n",
       "      <td>0.646942</td>\n",
       "      <td>0.739343</td>\n",
       "      <td>-0.256618</td>\n",
       "      <td>0.217616</td>\n",
       "      <td>1.399815</td>\n",
       "    </tr>\n",
       "    <tr>\n",
       "      <th>30</th>\n",
       "      <td>0.989230</td>\n",
       "      <td>-0.245868</td>\n",
       "      <td>0.825207</td>\n",
       "      <td>0.834028</td>\n",
       "      <td>0.913207</td>\n",
       "      <td>0.157633</td>\n",
       "      <td>-1.362983</td>\n",
       "      <td>-1.149678</td>\n",
       "      <td>1.062570</td>\n",
       "    </tr>\n",
       "    <tr>\n",
       "      <th>122</th>\n",
       "      <td>-0.745540</td>\n",
       "      <td>1.444762</td>\n",
       "      <td>-1.268821</td>\n",
       "      <td>-0.326337</td>\n",
       "      <td>-1.971089</td>\n",
       "      <td>-0.222863</td>\n",
       "      <td>-0.323092</td>\n",
       "      <td>-0.034569</td>\n",
       "      <td>0.736963</td>\n",
       "    </tr>\n",
       "    <tr>\n",
       "      <th>109</th>\n",
       "      <td>-0.581642</td>\n",
       "      <td>-0.014233</td>\n",
       "      <td>0.362165</td>\n",
       "      <td>-1.550607</td>\n",
       "      <td>0.147200</td>\n",
       "      <td>-0.900187</td>\n",
       "      <td>-0.769219</td>\n",
       "      <td>1.172652</td>\n",
       "      <td>-0.757894</td>\n",
       "    </tr>\n",
       "    <tr>\n",
       "      <th>93</th>\n",
       "      <td>-0.324529</td>\n",
       "      <td>1.722334</td>\n",
       "      <td>-1.767977</td>\n",
       "      <td>-0.035804</td>\n",
       "      <td>-1.811781</td>\n",
       "      <td>-0.659400</td>\n",
       "      <td>0.457863</td>\n",
       "      <td>0.034171</td>\n",
       "      <td>1.808332</td>\n",
       "    </tr>\n",
       "    <tr>\n",
       "      <th>65</th>\n",
       "      <td>0.309232</td>\n",
       "      <td>0.781282</td>\n",
       "      <td>0.906347</td>\n",
       "      <td>0.158342</td>\n",
       "      <td>1.380086</td>\n",
       "      <td>0.349578</td>\n",
       "      <td>0.329635</td>\n",
       "      <td>0.357470</td>\n",
       "      <td>-0.922625</td>\n",
       "    </tr>\n",
       "    <tr>\n",
       "      <th>150</th>\n",
       "      <td>-1.554189</td>\n",
       "      <td>0.482376</td>\n",
       "      <td>-0.973325</td>\n",
       "      <td>-0.967656</td>\n",
       "      <td>-1.689644</td>\n",
       "      <td>0.193389</td>\n",
       "      <td>0.660573</td>\n",
       "      <td>-0.154271</td>\n",
       "      <td>-1.229429</td>\n",
       "    </tr>\n",
       "    <tr>\n",
       "      <th>18</th>\n",
       "      <td>1.340866</td>\n",
       "      <td>-0.780736</td>\n",
       "      <td>1.189084</td>\n",
       "      <td>1.279716</td>\n",
       "      <td>1.216055</td>\n",
       "      <td>1.074354</td>\n",
       "      <td>0.994040</td>\n",
       "      <td>0.032516</td>\n",
       "      <td>0.554702</td>\n",
       "    </tr>\n",
       "    <tr>\n",
       "      <th>12</th>\n",
       "      <td>1.551512</td>\n",
       "      <td>-0.626213</td>\n",
       "      <td>1.273718</td>\n",
       "      <td>1.347111</td>\n",
       "      <td>1.178614</td>\n",
       "      <td>1.402544</td>\n",
       "      <td>0.720986</td>\n",
       "      <td>0.858898</td>\n",
       "      <td>0.781475</td>\n",
       "    </tr>\n",
       "    <tr>\n",
       "      <th>9</th>\n",
       "      <td>1.618267</td>\n",
       "      <td>-0.319718</td>\n",
       "      <td>1.263183</td>\n",
       "      <td>1.420269</td>\n",
       "      <td>1.429816</td>\n",
       "      <td>1.631774</td>\n",
       "      <td>1.596473</td>\n",
       "      <td>1.477440</td>\n",
       "      <td>0.274688</td>\n",
       "    </tr>\n",
       "    <tr>\n",
       "      <th>31</th>\n",
       "      <td>0.972773</td>\n",
       "      <td>0.056077</td>\n",
       "      <td>0.503810</td>\n",
       "      <td>0.847313</td>\n",
       "      <td>0.728148</td>\n",
       "      <td>1.230255</td>\n",
       "      <td>1.115475</td>\n",
       "      <td>0.117713</td>\n",
       "      <td>0.377844</td>\n",
       "    </tr>\n",
       "    <tr>\n",
       "      <th>81</th>\n",
       "      <td>-0.128233</td>\n",
       "      <td>0.044485</td>\n",
       "      <td>0.082057</td>\n",
       "      <td>0.085492</td>\n",
       "      <td>0.139279</td>\n",
       "      <td>-0.234799</td>\n",
       "      <td>0.330944</td>\n",
       "      <td>-1.106040</td>\n",
       "      <td>-0.431424</td>\n",
       "    </tr>\n",
       "    <tr>\n",
       "      <th>51</th>\n",
       "      <td>0.474718</td>\n",
       "      <td>-0.580057</td>\n",
       "      <td>-0.676736</td>\n",
       "      <td>-0.082782</td>\n",
       "      <td>-0.215603</td>\n",
       "      <td>-0.733958</td>\n",
       "      <td>-1.582273</td>\n",
       "      <td>-0.082654</td>\n",
       "      <td>1.921995</td>\n",
       "    </tr>\n",
       "    <tr>\n",
       "      <th>139</th>\n",
       "      <td>-1.262765</td>\n",
       "      <td>0.247828</td>\n",
       "      <td>-1.459374</td>\n",
       "      <td>-0.900971</td>\n",
       "      <td>-1.147653</td>\n",
       "      <td>-1.299411</td>\n",
       "      <td>0.813823</td>\n",
       "      <td>-0.414378</td>\n",
       "      <td>-0.291425</td>\n",
       "    </tr>\n",
       "    <tr>\n",
       "      <th>125</th>\n",
       "      <td>-0.873231</td>\n",
       "      <td>1.780289</td>\n",
       "      <td>-1.029364</td>\n",
       "      <td>-1.444897</td>\n",
       "      <td>-1.148379</td>\n",
       "      <td>0.137067</td>\n",
       "      <td>1.299926</td>\n",
       "      <td>-0.350381</td>\n",
       "      <td>-0.122735</td>\n",
       "    </tr>\n",
       "    <tr>\n",
       "      <th>146</th>\n",
       "      <td>-1.528749</td>\n",
       "      <td>-0.742448</td>\n",
       "      <td>-1.522116</td>\n",
       "      <td>-1.258481</td>\n",
       "      <td>-0.807172</td>\n",
       "      <td>-1.494498</td>\n",
       "      <td>-0.417236</td>\n",
       "      <td>-0.048379</td>\n",
       "      <td>-0.482927</td>\n",
       "    </tr>\n",
       "    <tr>\n",
       "      <th>145</th>\n",
       "      <td>-1.431383</td>\n",
       "      <td>0.429875</td>\n",
       "      <td>-1.363861</td>\n",
       "      <td>-0.135881</td>\n",
       "      <td>-1.089335</td>\n",
       "      <td>-0.730314</td>\n",
       "      <td>-0.788642</td>\n",
       "      <td>0.943377</td>\n",
       "      <td>-1.289929</td>\n",
       "    </tr>\n",
       "    <tr>\n",
       "      <th>75</th>\n",
       "      <td>-0.005208</td>\n",
       "      <td>-0.518569</td>\n",
       "      <td>0.501975</td>\n",
       "      <td>-0.363022</td>\n",
       "      <td>0.311355</td>\n",
       "      <td>-1.304872</td>\n",
       "      <td>0.471149</td>\n",
       "      <td>-0.966507</td>\n",
       "      <td>-0.060593</td>\n",
       "    </tr>\n",
       "    <tr>\n",
       "      <th>137</th>\n",
       "      <td>-1.225486</td>\n",
       "      <td>0.762601</td>\n",
       "      <td>-1.414730</td>\n",
       "      <td>0.003197</td>\n",
       "      <td>-1.568875</td>\n",
       "      <td>-0.353722</td>\n",
       "      <td>0.124273</td>\n",
       "      <td>-0.282433</td>\n",
       "      <td>-0.585590</td>\n",
       "    </tr>\n",
       "    <tr>\n",
       "      <th>55</th>\n",
       "      <td>0.427126</td>\n",
       "      <td>-0.538308</td>\n",
       "      <td>0.737282</td>\n",
       "      <td>1.116353</td>\n",
       "      <td>0.309167</td>\n",
       "      <td>-1.382907</td>\n",
       "      <td>-1.712422</td>\n",
       "      <td>-2.234727</td>\n",
       "      <td>0.615049</td>\n",
       "    </tr>\n",
       "    <tr>\n",
       "      <th>126</th>\n",
       "      <td>-0.890906</td>\n",
       "      <td>0.223364</td>\n",
       "      <td>-0.256887</td>\n",
       "      <td>-0.949448</td>\n",
       "      <td>0.302310</td>\n",
       "      <td>-1.460559</td>\n",
       "      <td>-1.117745</td>\n",
       "      <td>-1.502321</td>\n",
       "      <td>-0.645668</td>\n",
       "    </tr>\n",
       "    <tr>\n",
       "      <th>84</th>\n",
       "      <td>-0.183925</td>\n",
       "      <td>1.414370</td>\n",
       "      <td>-0.962005</td>\n",
       "      <td>-0.477939</td>\n",
       "      <td>-1.331740</td>\n",
       "      <td>0.334968</td>\n",
       "      <td>0.137294</td>\n",
       "      <td>-0.207519</td>\n",
       "      <td>0.977523</td>\n",
       "    </tr>\n",
       "    <tr>\n",
       "      <th>154</th>\n",
       "      <td>-1.866654</td>\n",
       "      <td>-0.719479</td>\n",
       "      <td>-1.360829</td>\n",
       "      <td>-1.896644</td>\n",
       "      <td>-1.276496</td>\n",
       "      <td>0.307514</td>\n",
       "      <td>-0.433835</td>\n",
       "      <td>-0.334169</td>\n",
       "      <td>-0.863565</td>\n",
       "    </tr>\n",
       "    <tr>\n",
       "      <th>42</th>\n",
       "      <td>0.672073</td>\n",
       "      <td>0.535590</td>\n",
       "      <td>-0.313020</td>\n",
       "      <td>0.039562</td>\n",
       "      <td>-0.101399</td>\n",
       "      <td>1.016669</td>\n",
       "      <td>-0.229445</td>\n",
       "      <td>0.459848</td>\n",
       "      <td>1.189787</td>\n",
       "    </tr>\n",
       "    <tr>\n",
       "      <th>67</th>\n",
       "      <td>0.231866</td>\n",
       "      <td>0.454963</td>\n",
       "      <td>0.178952</td>\n",
       "      <td>0.193300</td>\n",
       "      <td>-0.218194</td>\n",
       "      <td>-0.984721</td>\n",
       "      <td>0.615797</td>\n",
       "      <td>-1.506606</td>\n",
       "      <td>0.587566</td>\n",
       "    </tr>\n",
       "    <tr>\n",
       "      <th>117</th>\n",
       "      <td>-0.705992</td>\n",
       "      <td>1.315688</td>\n",
       "      <td>-0.846993</td>\n",
       "      <td>-0.088046</td>\n",
       "      <td>-1.130547</td>\n",
       "      <td>-1.930223</td>\n",
       "      <td>0.367469</td>\n",
       "      <td>-0.257317</td>\n",
       "      <td>0.166758</td>\n",
       "    </tr>\n",
       "    <tr>\n",
       "      <th>26</th>\n",
       "      <td>1.124387</td>\n",
       "      <td>0.872099</td>\n",
       "      <td>0.627288</td>\n",
       "      <td>0.414562</td>\n",
       "      <td>0.991780</td>\n",
       "      <td>0.001042</td>\n",
       "      <td>0.181628</td>\n",
       "      <td>0.877139</td>\n",
       "      <td>1.058712</td>\n",
       "    </tr>\n",
       "    <tr>\n",
       "      <th>136</th>\n",
       "      <td>-1.189265</td>\n",
       "      <td>0.219746</td>\n",
       "      <td>-0.282750</td>\n",
       "      <td>-0.677997</td>\n",
       "      <td>-1.657278</td>\n",
       "      <td>-1.916613</td>\n",
       "      <td>-0.567183</td>\n",
       "      <td>-0.956118</td>\n",
       "      <td>-0.307134</td>\n",
       "    </tr>\n",
       "    <tr>\n",
       "      <th>78</th>\n",
       "      <td>-0.074505</td>\n",
       "      <td>-1.176504</td>\n",
       "      <td>-0.251396</td>\n",
       "      <td>0.315874</td>\n",
       "      <td>-0.401206</td>\n",
       "      <td>0.662156</td>\n",
       "      <td>0.443056</td>\n",
       "      <td>1.698575</td>\n",
       "      <td>-0.855541</td>\n",
       "    </tr>\n",
       "    <tr>\n",
       "      <th>149</th>\n",
       "      <td>-1.553209</td>\n",
       "      <td>-0.785805</td>\n",
       "      <td>-1.590474</td>\n",
       "      <td>-1.709702</td>\n",
       "      <td>-1.486153</td>\n",
       "      <td>-0.427083</td>\n",
       "      <td>0.100132</td>\n",
       "      <td>0.547670</td>\n",
       "      <td>-0.230797</td>\n",
       "    </tr>\n",
       "    <tr>\n",
       "      <th>36</th>\n",
       "      <td>0.821443</td>\n",
       "      <td>-0.213434</td>\n",
       "      <td>0.904499</td>\n",
       "      <td>1.376937</td>\n",
       "      <td>1.159484</td>\n",
       "      <td>1.230502</td>\n",
       "      <td>0.258355</td>\n",
       "      <td>1.869916</td>\n",
       "      <td>-0.836821</td>\n",
       "    </tr>\n",
       "    <tr>\n",
       "      <th>76</th>\n",
       "      <td>-0.045520</td>\n",
       "      <td>-0.557219</td>\n",
       "      <td>-0.953231</td>\n",
       "      <td>0.546616</td>\n",
       "      <td>-0.071658</td>\n",
       "      <td>-0.044175</td>\n",
       "      <td>-1.055725</td>\n",
       "      <td>0.647720</td>\n",
       "      <td>0.211655</td>\n",
       "    </tr>\n",
       "    <tr>\n",
       "      <th>22</th>\n",
       "      <td>1.238235</td>\n",
       "      <td>1.202776</td>\n",
       "      <td>0.456912</td>\n",
       "      <td>1.107870</td>\n",
       "      <td>0.256006</td>\n",
       "      <td>-0.083185</td>\n",
       "      <td>-0.025842</td>\n",
       "      <td>-1.771671</td>\n",
       "      <td>2.094773</td>\n",
       "    </tr>\n",
       "    <tr>\n",
       "      <th>133</th>\n",
       "      <td>-1.014336</td>\n",
       "      <td>0.269926</td>\n",
       "      <td>0.371110</td>\n",
       "      <td>0.326288</td>\n",
       "      <td>0.487981</td>\n",
       "      <td>-0.867574</td>\n",
       "      <td>-1.748724</td>\n",
       "      <td>-1.004636</td>\n",
       "      <td>-2.053466</td>\n",
       "    </tr>\n",
       "  </tbody>\n",
       "</table>\n",
       "</div>"
      ],
      "text/plain": [
       "     Happiness Score  Standard Error  Economy (GDP per Capita)    Family  \\\n",
       "128        -0.930990       -0.092893                 -1.393290 -1.148146   \n",
       "45          0.557664       -0.794948                  1.083206  1.114473   \n",
       "134        -1.036900       -1.137214                  0.030074 -1.039831   \n",
       "156        -2.312178        1.926902                 -1.894954 -1.796803   \n",
       "90         -0.247831        1.056549                 -1.561911 -0.342763   \n",
       "29          1.045881        0.111782                  0.481842  1.064092   \n",
       "96         -0.389950        2.096058                 -1.171658  0.028436   \n",
       "98         -0.409724        1.298283                 -0.685702 -1.065990   \n",
       "95         -0.344214        1.385250                 -0.096340 -0.466581   \n",
       "140        -1.286718       -0.120707                 -1.516491  0.456269   \n",
       "19          1.311835       -0.647583                  1.536404  0.420800   \n",
       "56          0.422869        0.626794                 -0.679624  0.500051   \n",
       "15          1.377891       -0.325881                  0.289107  0.978252   \n",
       "69          0.182667       -0.239866                  0.229158  0.944088   \n",
       "24          1.218771        0.327439                  0.508857  0.791634   \n",
       "30          0.989230       -0.245868                  0.825207  0.834028   \n",
       "122        -0.745540        1.444762                 -1.268821 -0.326337   \n",
       "109        -0.581642       -0.014233                  0.362165 -1.550607   \n",
       "93         -0.324529        1.722334                 -1.767977 -0.035804   \n",
       "65          0.309232        0.781282                  0.906347  0.158342   \n",
       "150        -1.554189        0.482376                 -0.973325 -0.967656   \n",
       "18          1.340866       -0.780736                  1.189084  1.279716   \n",
       "12          1.551512       -0.626213                  1.273718  1.347111   \n",
       "9           1.618267       -0.319718                  1.263183  1.420269   \n",
       "31          0.972773        0.056077                  0.503810  0.847313   \n",
       "81         -0.128233        0.044485                  0.082057  0.085492   \n",
       "51          0.474718       -0.580057                 -0.676736 -0.082782   \n",
       "139        -1.262765        0.247828                 -1.459374 -0.900971   \n",
       "125        -0.873231        1.780289                 -1.029364 -1.444897   \n",
       "146        -1.528749       -0.742448                 -1.522116 -1.258481   \n",
       "145        -1.431383        0.429875                 -1.363861 -0.135881   \n",
       "75         -0.005208       -0.518569                  0.501975 -0.363022   \n",
       "137        -1.225486        0.762601                 -1.414730  0.003197   \n",
       "55          0.427126       -0.538308                  0.737282  1.116353   \n",
       "126        -0.890906        0.223364                 -0.256887 -0.949448   \n",
       "84         -0.183925        1.414370                 -0.962005 -0.477939   \n",
       "154        -1.866654       -0.719479                 -1.360829 -1.896644   \n",
       "42          0.672073        0.535590                 -0.313020  0.039562   \n",
       "67          0.231866        0.454963                  0.178952  0.193300   \n",
       "117        -0.705992        1.315688                 -0.846993 -0.088046   \n",
       "26          1.124387        0.872099                  0.627288  0.414562   \n",
       "136        -1.189265        0.219746                 -0.282750 -0.677997   \n",
       "78         -0.074505       -1.176504                 -0.251396  0.315874   \n",
       "149        -1.553209       -0.785805                 -1.590474 -1.709702   \n",
       "36          0.821443       -0.213434                  0.904499  1.376937   \n",
       "76         -0.045520       -0.557219                 -0.953231  0.546616   \n",
       "22          1.238235        1.202776                  0.456912  1.107870   \n",
       "133        -1.014336        0.269926                  0.371110  0.326288   \n",
       "\n",
       "     Health (Life Expectancy)   Freedom  Trust (Government Corruption)  \\\n",
       "128                 -0.752830 -0.006921                       0.748794   \n",
       "45                   1.813643  0.392716                       0.671821   \n",
       "134                 -0.220526 -1.589884                      -0.693403   \n",
       "156                 -1.525700 -1.849903                      -0.151946   \n",
       "90                  -0.905559  0.173136                       1.722332   \n",
       "29                   0.596839  0.059658                      -0.365569   \n",
       "96                  -1.840308 -0.797359                       0.141317   \n",
       "98                  -0.501451  1.167026                       1.097718   \n",
       "95                   0.615897 -1.967464                      -1.899932   \n",
       "140                 -1.220515  0.112546                      -0.544909   \n",
       "19                   0.715324  1.548700                       1.685625   \n",
       "56                   0.368563  0.837758                       0.770388   \n",
       "15                   0.142283  0.351187                       0.627390   \n",
       "69                  -0.541546  0.246747                       1.420936   \n",
       "24                   0.646942  0.739343                      -0.256618   \n",
       "30                   0.913207  0.157633                      -1.362983   \n",
       "122                 -1.971089 -0.222863                      -0.323092   \n",
       "109                  0.147200 -0.900187                      -0.769219   \n",
       "93                  -1.811781 -0.659400                       0.457863   \n",
       "65                   1.380086  0.349578                       0.329635   \n",
       "150                 -1.689644  0.193389                       0.660573   \n",
       "18                   1.216055  1.074354                       0.994040   \n",
       "12                   1.178614  1.402544                       0.720986   \n",
       "9                    1.429816  1.631774                       1.596473   \n",
       "31                   0.728148  1.230255                       1.115475   \n",
       "81                   0.139279 -0.234799                       0.330944   \n",
       "51                  -0.215603 -0.733958                      -1.582273   \n",
       "139                 -1.147653 -1.299411                       0.813823   \n",
       "125                 -1.148379  0.137067                       1.299926   \n",
       "146                 -0.807172 -1.494498                      -0.417236   \n",
       "145                 -1.089335 -0.730314                      -0.788642   \n",
       "75                   0.311355 -1.304872                       0.471149   \n",
       "137                 -1.568875 -0.353722                       0.124273   \n",
       "55                   0.309167 -1.382907                      -1.712422   \n",
       "126                  0.302310 -1.460559                      -1.117745   \n",
       "84                  -1.331740  0.334968                       0.137294   \n",
       "154                 -1.276496  0.307514                      -0.433835   \n",
       "42                  -0.101399  1.016669                      -0.229445   \n",
       "67                  -0.218194 -0.984721                       0.615797   \n",
       "117                 -1.130547 -1.930223                       0.367469   \n",
       "26                   0.991780  0.001042                       0.181628   \n",
       "136                 -1.657278 -1.916613                      -0.567183   \n",
       "78                  -0.401206  0.662156                       0.443056   \n",
       "149                 -1.486153 -0.427083                       0.100132   \n",
       "36                   1.159484  1.230502                       0.258355   \n",
       "76                  -0.071658 -0.044175                      -1.055725   \n",
       "22                   0.256006 -0.083185                      -0.025842   \n",
       "133                  0.487981 -0.867574                      -1.748724   \n",
       "\n",
       "     Generosity  Dystopia Residual  \n",
       "128    2.808264          -1.228063  \n",
       "45    -1.147407          -0.775334  \n",
       "134   -1.077986          -0.921957  \n",
       "156   -0.194829          -0.514801  \n",
       "90     1.806068          -0.014698  \n",
       "29    -1.059232           1.374953  \n",
       "96    -0.520151           1.300080  \n",
       "98     1.404672          -0.681962  \n",
       "95     0.248286          -0.100086  \n",
       "140    0.577828          -1.212047  \n",
       "19     0.377826           0.239126  \n",
       "56     0.484617           0.382835  \n",
       "15    -0.709669           2.236762  \n",
       "69    -0.460413          -0.449445  \n",
       "24     0.217616           1.399815  \n",
       "30    -1.149678           1.062570  \n",
       "122   -0.034569           0.736963  \n",
       "109    1.172652          -0.757894  \n",
       "93     0.034171           1.808332  \n",
       "65     0.357470          -0.922625  \n",
       "150   -0.154271          -1.229429  \n",
       "18     0.032516           0.554702  \n",
       "12     0.858898           0.781475  \n",
       "9      1.477440           0.274688  \n",
       "31     0.117713           0.377844  \n",
       "81    -1.106040          -0.431424  \n",
       "51    -0.082654           1.921995  \n",
       "139   -0.414378          -0.291425  \n",
       "125   -0.350381          -0.122735  \n",
       "146   -0.048379          -0.482927  \n",
       "145    0.943377          -1.289929  \n",
       "75    -0.966507          -0.060593  \n",
       "137   -0.282433          -0.585590  \n",
       "55    -2.234727           0.615049  \n",
       "126   -1.502321          -0.645668  \n",
       "84    -0.207519           0.977523  \n",
       "154   -0.334169          -0.863565  \n",
       "42     0.459848           1.189787  \n",
       "67    -1.506606           0.587566  \n",
       "117   -0.257317           0.166758  \n",
       "26     0.877139           1.058712  \n",
       "136   -0.956118          -0.307134  \n",
       "78     1.698575          -0.855541  \n",
       "149    0.547670          -0.230797  \n",
       "36     1.869916          -0.836821  \n",
       "76     0.647720           0.211655  \n",
       "22    -1.771671           2.094773  \n",
       "133   -1.004636          -2.053466  "
      ]
     },
     "execution_count": 70,
     "metadata": {},
     "output_type": "execute_result"
    }
   ],
   "source": [
    "x_test"
   ]
  },
  {
   "cell_type": "markdown",
   "metadata": {},
   "source": [
    "# saving the model"
   ]
  },
  {
   "cell_type": "code",
   "execution_count": 81,
   "metadata": {},
   "outputs": [],
   "source": [
    "import numpy\n",
    "import pickle\n",
    "filename=\"pickleWHR.pkl\"\n",
    "pickle.dump(RFR,open(filename,\"wb\"))"
   ]
  },
  {
   "cell_type": "code",
   "execution_count": 82,
   "metadata": {},
   "outputs": [],
   "source": [
    "pkl=pickle.load(open(filename,\"rb\"))"
   ]
  },
  {
   "cell_type": "code",
   "execution_count": 83,
   "metadata": {},
   "outputs": [
    {
     "data": {
      "text/plain": [
       "array([130.6875,  47.125 , 131.8875, 155.3   ,  89.9   ,  29.55  ,\n",
       "        99.625 , 100.5375,  92.85  , 143.125 ,  19.4   ,  57.9625,\n",
       "        18.225 ,  70.7875,  25.6   ,  33.5625, 120.3   , 110.6625,\n",
       "        92.7   ,  65.6875, 149.35  ,  17.5125,  12.35  ,   9.0375,\n",
       "        32.6125,  82.525 ,  51.45  , 140.825 , 126.375 , 147.8125,\n",
       "       144.75  ,  75.8125, 139.6   ,  57.325 , 130.125 ,  86.375 ,\n",
       "       151.65  ,  41.7375,  67.7375, 115.4375,  28.4375, 137.6125,\n",
       "        79.9875, 149.6125,  38.0625,  77.3125,  25.25  , 131.425 ])"
      ]
     },
     "execution_count": 83,
     "metadata": {},
     "output_type": "execute_result"
    }
   ],
   "source": [
    "pkl.predict(x_test)"
   ]
  },
  {
   "cell_type": "code",
   "execution_count": 86,
   "metadata": {},
   "outputs": [
    {
     "data": {
      "text/plain": [
       "array([5.825])"
      ]
     },
     "execution_count": 86,
     "metadata": {},
     "output_type": "execute_result"
    }
   ],
   "source": [
    "pkl.predict([[7.587,0.03411,1.39651,1.34951,0.94143,0.66557,0.41978,0.29678,2.51738]])"
   ]
  },
  {
   "cell_type": "code",
   "execution_count": 99,
   "metadata": {},
   "outputs": [],
   "source": [
    "t=np.array([-2.312178,1.926902,-1.894954,-1.796803,-1.525700,-1.849903,-0.151946,-0.19482,-0.514801])"
   ]
  },
  {
   "cell_type": "code",
   "execution_count": 100,
   "metadata": {},
   "outputs": [],
   "source": [
    "t=t.reshape(1,-1)"
   ]
  },
  {
   "cell_type": "code",
   "execution_count": 101,
   "metadata": {},
   "outputs": [
    {
     "data": {
      "text/plain": [
       "array([155.3])"
      ]
     },
     "execution_count": 101,
     "metadata": {},
     "output_type": "execute_result"
    }
   ],
   "source": [
    "pkl.predict(t)"
   ]
  },
  {
   "cell_type": "code",
   "execution_count": 105,
   "metadata": {},
   "outputs": [
    {
     "data": {
      "text/plain": [
       "array([151.65])"
      ]
     },
     "execution_count": 105,
     "metadata": {},
     "output_type": "execute_result"
    }
   ],
   "source": [
    "pkl.predict([[-1.866654,-0.719479,-1.360829,-1.896644,-1.276496,0.307514,-0.433835,-0.334169,-0.863565]])"
   ]
  },
  {
   "cell_type": "code",
   "execution_count": null,
   "metadata": {},
   "outputs": [],
   "source": []
  }
 ],
 "metadata": {
  "kernelspec": {
   "display_name": "Python 3",
   "language": "python",
   "name": "python3"
  },
  "language_info": {
   "codemirror_mode": {
    "name": "ipython",
    "version": 3
   },
   "file_extension": ".py",
   "mimetype": "text/x-python",
   "name": "python",
   "nbconvert_exporter": "python",
   "pygments_lexer": "ipython3",
   "version": "3.8.5"
  }
 },
 "nbformat": 4,
 "nbformat_minor": 4
}
